{
 "cells": [
  {
   "cell_type": "code",
   "execution_count": 302,
   "id": "1090e4c5-20c0-4d8b-9722-e6479c57b1bc",
   "metadata": {},
   "outputs": [],
   "source": [
    "import pandas as pd\n",
    "import numpy as np\n",
    "import seaborn as sns\n",
    "import matplotlib.pyplot as plt\n",
    "import warnings\n",
    "warnings.filterwarnings('ignore')"
   ]
  },
  {
   "cell_type": "code",
   "execution_count": 303,
   "id": "9c254145-4f33-445b-b1f4-807039ce2b86",
   "metadata": {},
   "outputs": [
    {
     "data": {
      "text/html": [
       "<div>\n",
       "<style scoped>\n",
       "    .dataframe tbody tr th:only-of-type {\n",
       "        vertical-align: middle;\n",
       "    }\n",
       "\n",
       "    .dataframe tbody tr th {\n",
       "        vertical-align: top;\n",
       "    }\n",
       "\n",
       "    .dataframe thead th {\n",
       "        text-align: right;\n",
       "    }\n",
       "</style>\n",
       "<table border=\"1\" class=\"dataframe\">\n",
       "  <thead>\n",
       "    <tr style=\"text-align: right;\">\n",
       "      <th></th>\n",
       "      <th>PassengerId</th>\n",
       "      <th>Survived</th>\n",
       "      <th>Pclass</th>\n",
       "      <th>Name</th>\n",
       "      <th>Sex</th>\n",
       "      <th>Age</th>\n",
       "      <th>SibSp</th>\n",
       "      <th>Parch</th>\n",
       "      <th>Ticket</th>\n",
       "      <th>Fare</th>\n",
       "      <th>Cabin</th>\n",
       "      <th>Embarked</th>\n",
       "    </tr>\n",
       "  </thead>\n",
       "  <tbody>\n",
       "    <tr>\n",
       "      <th>0</th>\n",
       "      <td>1</td>\n",
       "      <td>0</td>\n",
       "      <td>3</td>\n",
       "      <td>Braund, Mr. Owen Harris</td>\n",
       "      <td>male</td>\n",
       "      <td>22.0</td>\n",
       "      <td>1</td>\n",
       "      <td>0</td>\n",
       "      <td>A/5 21171</td>\n",
       "      <td>7.2500</td>\n",
       "      <td>NaN</td>\n",
       "      <td>S</td>\n",
       "    </tr>\n",
       "    <tr>\n",
       "      <th>1</th>\n",
       "      <td>2</td>\n",
       "      <td>1</td>\n",
       "      <td>1</td>\n",
       "      <td>Cumings, Mrs. John Bradley (Florence Briggs Th...</td>\n",
       "      <td>female</td>\n",
       "      <td>38.0</td>\n",
       "      <td>1</td>\n",
       "      <td>0</td>\n",
       "      <td>PC 17599</td>\n",
       "      <td>71.2833</td>\n",
       "      <td>C85</td>\n",
       "      <td>C</td>\n",
       "    </tr>\n",
       "    <tr>\n",
       "      <th>2</th>\n",
       "      <td>3</td>\n",
       "      <td>1</td>\n",
       "      <td>3</td>\n",
       "      <td>Heikkinen, Miss. Laina</td>\n",
       "      <td>female</td>\n",
       "      <td>26.0</td>\n",
       "      <td>0</td>\n",
       "      <td>0</td>\n",
       "      <td>STON/O2. 3101282</td>\n",
       "      <td>7.9250</td>\n",
       "      <td>NaN</td>\n",
       "      <td>S</td>\n",
       "    </tr>\n",
       "    <tr>\n",
       "      <th>3</th>\n",
       "      <td>4</td>\n",
       "      <td>1</td>\n",
       "      <td>1</td>\n",
       "      <td>Futrelle, Mrs. Jacques Heath (Lily May Peel)</td>\n",
       "      <td>female</td>\n",
       "      <td>35.0</td>\n",
       "      <td>1</td>\n",
       "      <td>0</td>\n",
       "      <td>113803</td>\n",
       "      <td>53.1000</td>\n",
       "      <td>C123</td>\n",
       "      <td>S</td>\n",
       "    </tr>\n",
       "    <tr>\n",
       "      <th>4</th>\n",
       "      <td>5</td>\n",
       "      <td>0</td>\n",
       "      <td>3</td>\n",
       "      <td>Allen, Mr. William Henry</td>\n",
       "      <td>male</td>\n",
       "      <td>35.0</td>\n",
       "      <td>0</td>\n",
       "      <td>0</td>\n",
       "      <td>373450</td>\n",
       "      <td>8.0500</td>\n",
       "      <td>NaN</td>\n",
       "      <td>S</td>\n",
       "    </tr>\n",
       "    <tr>\n",
       "      <th>...</th>\n",
       "      <td>...</td>\n",
       "      <td>...</td>\n",
       "      <td>...</td>\n",
       "      <td>...</td>\n",
       "      <td>...</td>\n",
       "      <td>...</td>\n",
       "      <td>...</td>\n",
       "      <td>...</td>\n",
       "      <td>...</td>\n",
       "      <td>...</td>\n",
       "      <td>...</td>\n",
       "      <td>...</td>\n",
       "    </tr>\n",
       "    <tr>\n",
       "      <th>886</th>\n",
       "      <td>887</td>\n",
       "      <td>0</td>\n",
       "      <td>2</td>\n",
       "      <td>Montvila, Rev. Juozas</td>\n",
       "      <td>male</td>\n",
       "      <td>27.0</td>\n",
       "      <td>0</td>\n",
       "      <td>0</td>\n",
       "      <td>211536</td>\n",
       "      <td>13.0000</td>\n",
       "      <td>NaN</td>\n",
       "      <td>S</td>\n",
       "    </tr>\n",
       "    <tr>\n",
       "      <th>887</th>\n",
       "      <td>888</td>\n",
       "      <td>1</td>\n",
       "      <td>1</td>\n",
       "      <td>Graham, Miss. Margaret Edith</td>\n",
       "      <td>female</td>\n",
       "      <td>19.0</td>\n",
       "      <td>0</td>\n",
       "      <td>0</td>\n",
       "      <td>112053</td>\n",
       "      <td>30.0000</td>\n",
       "      <td>B42</td>\n",
       "      <td>S</td>\n",
       "    </tr>\n",
       "    <tr>\n",
       "      <th>888</th>\n",
       "      <td>889</td>\n",
       "      <td>0</td>\n",
       "      <td>3</td>\n",
       "      <td>Johnston, Miss. Catherine Helen \"Carrie\"</td>\n",
       "      <td>female</td>\n",
       "      <td>NaN</td>\n",
       "      <td>1</td>\n",
       "      <td>2</td>\n",
       "      <td>W./C. 6607</td>\n",
       "      <td>23.4500</td>\n",
       "      <td>NaN</td>\n",
       "      <td>S</td>\n",
       "    </tr>\n",
       "    <tr>\n",
       "      <th>889</th>\n",
       "      <td>890</td>\n",
       "      <td>1</td>\n",
       "      <td>1</td>\n",
       "      <td>Behr, Mr. Karl Howell</td>\n",
       "      <td>male</td>\n",
       "      <td>26.0</td>\n",
       "      <td>0</td>\n",
       "      <td>0</td>\n",
       "      <td>111369</td>\n",
       "      <td>30.0000</td>\n",
       "      <td>C148</td>\n",
       "      <td>C</td>\n",
       "    </tr>\n",
       "    <tr>\n",
       "      <th>890</th>\n",
       "      <td>891</td>\n",
       "      <td>0</td>\n",
       "      <td>3</td>\n",
       "      <td>Dooley, Mr. Patrick</td>\n",
       "      <td>male</td>\n",
       "      <td>32.0</td>\n",
       "      <td>0</td>\n",
       "      <td>0</td>\n",
       "      <td>370376</td>\n",
       "      <td>7.7500</td>\n",
       "      <td>NaN</td>\n",
       "      <td>Q</td>\n",
       "    </tr>\n",
       "  </tbody>\n",
       "</table>\n",
       "<p>891 rows × 12 columns</p>\n",
       "</div>"
      ],
      "text/plain": [
       "     PassengerId  Survived  Pclass  \\\n",
       "0              1         0       3   \n",
       "1              2         1       1   \n",
       "2              3         1       3   \n",
       "3              4         1       1   \n",
       "4              5         0       3   \n",
       "..           ...       ...     ...   \n",
       "886          887         0       2   \n",
       "887          888         1       1   \n",
       "888          889         0       3   \n",
       "889          890         1       1   \n",
       "890          891         0       3   \n",
       "\n",
       "                                                  Name     Sex   Age  SibSp  \\\n",
       "0                              Braund, Mr. Owen Harris    male  22.0      1   \n",
       "1    Cumings, Mrs. John Bradley (Florence Briggs Th...  female  38.0      1   \n",
       "2                               Heikkinen, Miss. Laina  female  26.0      0   \n",
       "3         Futrelle, Mrs. Jacques Heath (Lily May Peel)  female  35.0      1   \n",
       "4                             Allen, Mr. William Henry    male  35.0      0   \n",
       "..                                                 ...     ...   ...    ...   \n",
       "886                              Montvila, Rev. Juozas    male  27.0      0   \n",
       "887                       Graham, Miss. Margaret Edith  female  19.0      0   \n",
       "888           Johnston, Miss. Catherine Helen \"Carrie\"  female   NaN      1   \n",
       "889                              Behr, Mr. Karl Howell    male  26.0      0   \n",
       "890                                Dooley, Mr. Patrick    male  32.0      0   \n",
       "\n",
       "     Parch            Ticket     Fare Cabin Embarked  \n",
       "0        0         A/5 21171   7.2500   NaN        S  \n",
       "1        0          PC 17599  71.2833   C85        C  \n",
       "2        0  STON/O2. 3101282   7.9250   NaN        S  \n",
       "3        0            113803  53.1000  C123        S  \n",
       "4        0            373450   8.0500   NaN        S  \n",
       "..     ...               ...      ...   ...      ...  \n",
       "886      0            211536  13.0000   NaN        S  \n",
       "887      0            112053  30.0000   B42        S  \n",
       "888      2        W./C. 6607  23.4500   NaN        S  \n",
       "889      0            111369  30.0000  C148        C  \n",
       "890      0            370376   7.7500   NaN        Q  \n",
       "\n",
       "[891 rows x 12 columns]"
      ]
     },
     "execution_count": 303,
     "metadata": {},
     "output_type": "execute_result"
    }
   ],
   "source": [
    "df = pd.read_csv('titanic_train.csv')\n",
    "df"
   ]
  },
  {
   "cell_type": "markdown",
   "id": "0338769c-edde-4a70-9734-5f5a88b6f6c6",
   "metadata": {},
   "source": [
    "This dataset contains the details of titanic ship passengers, here survived is a target variable and others are independent variables. Its a classification problem and we need to predict wheather passengers are survived or not using classification model."
   ]
  },
  {
   "cell_type": "code",
   "execution_count": 304,
   "id": "5f36a64a-0fbc-4e23-a05b-cb34cf9e87b6",
   "metadata": {},
   "outputs": [
    {
     "data": {
      "text/html": [
       "<div>\n",
       "<style scoped>\n",
       "    .dataframe tbody tr th:only-of-type {\n",
       "        vertical-align: middle;\n",
       "    }\n",
       "\n",
       "    .dataframe tbody tr th {\n",
       "        vertical-align: top;\n",
       "    }\n",
       "\n",
       "    .dataframe thead th {\n",
       "        text-align: right;\n",
       "    }\n",
       "</style>\n",
       "<table border=\"1\" class=\"dataframe\">\n",
       "  <thead>\n",
       "    <tr style=\"text-align: right;\">\n",
       "      <th></th>\n",
       "      <th>PassengerId</th>\n",
       "      <th>Survived</th>\n",
       "      <th>Pclass</th>\n",
       "      <th>Name</th>\n",
       "      <th>Sex</th>\n",
       "      <th>Age</th>\n",
       "      <th>SibSp</th>\n",
       "      <th>Parch</th>\n",
       "      <th>Ticket</th>\n",
       "      <th>Fare</th>\n",
       "      <th>Cabin</th>\n",
       "      <th>Embarked</th>\n",
       "    </tr>\n",
       "  </thead>\n",
       "  <tbody>\n",
       "    <tr>\n",
       "      <th>0</th>\n",
       "      <td>1</td>\n",
       "      <td>0</td>\n",
       "      <td>3</td>\n",
       "      <td>Braund, Mr. Owen Harris</td>\n",
       "      <td>male</td>\n",
       "      <td>22.0</td>\n",
       "      <td>1</td>\n",
       "      <td>0</td>\n",
       "      <td>A/5 21171</td>\n",
       "      <td>7.2500</td>\n",
       "      <td>NaN</td>\n",
       "      <td>S</td>\n",
       "    </tr>\n",
       "    <tr>\n",
       "      <th>1</th>\n",
       "      <td>2</td>\n",
       "      <td>1</td>\n",
       "      <td>1</td>\n",
       "      <td>Cumings, Mrs. John Bradley (Florence Briggs Th...</td>\n",
       "      <td>female</td>\n",
       "      <td>38.0</td>\n",
       "      <td>1</td>\n",
       "      <td>0</td>\n",
       "      <td>PC 17599</td>\n",
       "      <td>71.2833</td>\n",
       "      <td>C85</td>\n",
       "      <td>C</td>\n",
       "    </tr>\n",
       "    <tr>\n",
       "      <th>2</th>\n",
       "      <td>3</td>\n",
       "      <td>1</td>\n",
       "      <td>3</td>\n",
       "      <td>Heikkinen, Miss. Laina</td>\n",
       "      <td>female</td>\n",
       "      <td>26.0</td>\n",
       "      <td>0</td>\n",
       "      <td>0</td>\n",
       "      <td>STON/O2. 3101282</td>\n",
       "      <td>7.9250</td>\n",
       "      <td>NaN</td>\n",
       "      <td>S</td>\n",
       "    </tr>\n",
       "    <tr>\n",
       "      <th>3</th>\n",
       "      <td>4</td>\n",
       "      <td>1</td>\n",
       "      <td>1</td>\n",
       "      <td>Futrelle, Mrs. Jacques Heath (Lily May Peel)</td>\n",
       "      <td>female</td>\n",
       "      <td>35.0</td>\n",
       "      <td>1</td>\n",
       "      <td>0</td>\n",
       "      <td>113803</td>\n",
       "      <td>53.1000</td>\n",
       "      <td>C123</td>\n",
       "      <td>S</td>\n",
       "    </tr>\n",
       "    <tr>\n",
       "      <th>4</th>\n",
       "      <td>5</td>\n",
       "      <td>0</td>\n",
       "      <td>3</td>\n",
       "      <td>Allen, Mr. William Henry</td>\n",
       "      <td>male</td>\n",
       "      <td>35.0</td>\n",
       "      <td>0</td>\n",
       "      <td>0</td>\n",
       "      <td>373450</td>\n",
       "      <td>8.0500</td>\n",
       "      <td>NaN</td>\n",
       "      <td>S</td>\n",
       "    </tr>\n",
       "  </tbody>\n",
       "</table>\n",
       "</div>"
      ],
      "text/plain": [
       "   PassengerId  Survived  Pclass  \\\n",
       "0            1         0       3   \n",
       "1            2         1       1   \n",
       "2            3         1       3   \n",
       "3            4         1       1   \n",
       "4            5         0       3   \n",
       "\n",
       "                                                Name     Sex   Age  SibSp  \\\n",
       "0                            Braund, Mr. Owen Harris    male  22.0      1   \n",
       "1  Cumings, Mrs. John Bradley (Florence Briggs Th...  female  38.0      1   \n",
       "2                             Heikkinen, Miss. Laina  female  26.0      0   \n",
       "3       Futrelle, Mrs. Jacques Heath (Lily May Peel)  female  35.0      1   \n",
       "4                           Allen, Mr. William Henry    male  35.0      0   \n",
       "\n",
       "   Parch            Ticket     Fare Cabin Embarked  \n",
       "0      0         A/5 21171   7.2500   NaN        S  \n",
       "1      0          PC 17599  71.2833   C85        C  \n",
       "2      0  STON/O2. 3101282   7.9250   NaN        S  \n",
       "3      0            113803  53.1000  C123        S  \n",
       "4      0            373450   8.0500   NaN        S  "
      ]
     },
     "execution_count": 304,
     "metadata": {},
     "output_type": "execute_result"
    }
   ],
   "source": [
    "df.head()"
   ]
  },
  {
   "cell_type": "code",
   "execution_count": 305,
   "id": "9bc1dcfd-23ff-4175-88af-dc3f7bd24a9c",
   "metadata": {},
   "outputs": [
    {
     "data": {
      "text/html": [
       "<div>\n",
       "<style scoped>\n",
       "    .dataframe tbody tr th:only-of-type {\n",
       "        vertical-align: middle;\n",
       "    }\n",
       "\n",
       "    .dataframe tbody tr th {\n",
       "        vertical-align: top;\n",
       "    }\n",
       "\n",
       "    .dataframe thead th {\n",
       "        text-align: right;\n",
       "    }\n",
       "</style>\n",
       "<table border=\"1\" class=\"dataframe\">\n",
       "  <thead>\n",
       "    <tr style=\"text-align: right;\">\n",
       "      <th></th>\n",
       "      <th>PassengerId</th>\n",
       "      <th>Survived</th>\n",
       "      <th>Pclass</th>\n",
       "      <th>Name</th>\n",
       "      <th>Sex</th>\n",
       "      <th>Age</th>\n",
       "      <th>SibSp</th>\n",
       "      <th>Parch</th>\n",
       "      <th>Ticket</th>\n",
       "      <th>Fare</th>\n",
       "      <th>Cabin</th>\n",
       "      <th>Embarked</th>\n",
       "    </tr>\n",
       "  </thead>\n",
       "  <tbody>\n",
       "    <tr>\n",
       "      <th>886</th>\n",
       "      <td>887</td>\n",
       "      <td>0</td>\n",
       "      <td>2</td>\n",
       "      <td>Montvila, Rev. Juozas</td>\n",
       "      <td>male</td>\n",
       "      <td>27.0</td>\n",
       "      <td>0</td>\n",
       "      <td>0</td>\n",
       "      <td>211536</td>\n",
       "      <td>13.00</td>\n",
       "      <td>NaN</td>\n",
       "      <td>S</td>\n",
       "    </tr>\n",
       "    <tr>\n",
       "      <th>887</th>\n",
       "      <td>888</td>\n",
       "      <td>1</td>\n",
       "      <td>1</td>\n",
       "      <td>Graham, Miss. Margaret Edith</td>\n",
       "      <td>female</td>\n",
       "      <td>19.0</td>\n",
       "      <td>0</td>\n",
       "      <td>0</td>\n",
       "      <td>112053</td>\n",
       "      <td>30.00</td>\n",
       "      <td>B42</td>\n",
       "      <td>S</td>\n",
       "    </tr>\n",
       "    <tr>\n",
       "      <th>888</th>\n",
       "      <td>889</td>\n",
       "      <td>0</td>\n",
       "      <td>3</td>\n",
       "      <td>Johnston, Miss. Catherine Helen \"Carrie\"</td>\n",
       "      <td>female</td>\n",
       "      <td>NaN</td>\n",
       "      <td>1</td>\n",
       "      <td>2</td>\n",
       "      <td>W./C. 6607</td>\n",
       "      <td>23.45</td>\n",
       "      <td>NaN</td>\n",
       "      <td>S</td>\n",
       "    </tr>\n",
       "    <tr>\n",
       "      <th>889</th>\n",
       "      <td>890</td>\n",
       "      <td>1</td>\n",
       "      <td>1</td>\n",
       "      <td>Behr, Mr. Karl Howell</td>\n",
       "      <td>male</td>\n",
       "      <td>26.0</td>\n",
       "      <td>0</td>\n",
       "      <td>0</td>\n",
       "      <td>111369</td>\n",
       "      <td>30.00</td>\n",
       "      <td>C148</td>\n",
       "      <td>C</td>\n",
       "    </tr>\n",
       "    <tr>\n",
       "      <th>890</th>\n",
       "      <td>891</td>\n",
       "      <td>0</td>\n",
       "      <td>3</td>\n",
       "      <td>Dooley, Mr. Patrick</td>\n",
       "      <td>male</td>\n",
       "      <td>32.0</td>\n",
       "      <td>0</td>\n",
       "      <td>0</td>\n",
       "      <td>370376</td>\n",
       "      <td>7.75</td>\n",
       "      <td>NaN</td>\n",
       "      <td>Q</td>\n",
       "    </tr>\n",
       "  </tbody>\n",
       "</table>\n",
       "</div>"
      ],
      "text/plain": [
       "     PassengerId  Survived  Pclass                                      Name  \\\n",
       "886          887         0       2                     Montvila, Rev. Juozas   \n",
       "887          888         1       1              Graham, Miss. Margaret Edith   \n",
       "888          889         0       3  Johnston, Miss. Catherine Helen \"Carrie\"   \n",
       "889          890         1       1                     Behr, Mr. Karl Howell   \n",
       "890          891         0       3                       Dooley, Mr. Patrick   \n",
       "\n",
       "        Sex   Age  SibSp  Parch      Ticket   Fare Cabin Embarked  \n",
       "886    male  27.0      0      0      211536  13.00   NaN        S  \n",
       "887  female  19.0      0      0      112053  30.00   B42        S  \n",
       "888  female   NaN      1      2  W./C. 6607  23.45   NaN        S  \n",
       "889    male  26.0      0      0      111369  30.00  C148        C  \n",
       "890    male  32.0      0      0      370376   7.75   NaN        Q  "
      ]
     },
     "execution_count": 305,
     "metadata": {},
     "output_type": "execute_result"
    }
   ],
   "source": [
    "df.tail()"
   ]
  },
  {
   "cell_type": "code",
   "execution_count": 306,
   "id": "cda2842d-7bed-4b6c-b004-38b450ff208b",
   "metadata": {},
   "outputs": [
    {
     "data": {
      "text/plain": [
       "Index(['PassengerId', 'Survived', 'Pclass', 'Name', 'Sex', 'Age', 'SibSp',\n",
       "       'Parch', 'Ticket', 'Fare', 'Cabin', 'Embarked'],\n",
       "      dtype='object')"
      ]
     },
     "execution_count": 306,
     "metadata": {},
     "output_type": "execute_result"
    }
   ],
   "source": [
    "df.columns"
   ]
  },
  {
   "cell_type": "code",
   "execution_count": 307,
   "id": "7c2d8da3-f462-4ffd-ac5b-6345303db3b9",
   "metadata": {},
   "outputs": [
    {
     "data": {
      "text/plain": [
       "(891, 12)"
      ]
     },
     "execution_count": 307,
     "metadata": {},
     "output_type": "execute_result"
    }
   ],
   "source": [
    "df.shape"
   ]
  },
  {
   "cell_type": "markdown",
   "id": "6426487f-f273-409b-8cbf-9bc14bfde42e",
   "metadata": {},
   "source": [
    "This dataset contains 891 rows and 12 columns, Out of which 1 is taget variable and other 11 are independent variables."
   ]
  },
  {
   "cell_type": "code",
   "execution_count": 308,
   "id": "9cd208c4-3f42-4494-a01b-2d3dc176a63d",
   "metadata": {},
   "outputs": [
    {
     "data": {
      "text/plain": [
       "['PassengerId',\n",
       " 'Survived',\n",
       " 'Pclass',\n",
       " 'Name',\n",
       " 'Sex',\n",
       " 'Age',\n",
       " 'SibSp',\n",
       " 'Parch',\n",
       " 'Ticket',\n",
       " 'Fare',\n",
       " 'Cabin',\n",
       " 'Embarked']"
      ]
     },
     "execution_count": 308,
     "metadata": {},
     "output_type": "execute_result"
    }
   ],
   "source": [
    "df.columns.tolist()"
   ]
  },
  {
   "cell_type": "code",
   "execution_count": 309,
   "id": "0f16d8a2-1b6c-4945-b83b-9ac52aea4fa5",
   "metadata": {},
   "outputs": [
    {
     "data": {
      "text/plain": [
       "PassengerId      int64\n",
       "Survived         int64\n",
       "Pclass           int64\n",
       "Name            object\n",
       "Sex             object\n",
       "Age            float64\n",
       "SibSp            int64\n",
       "Parch            int64\n",
       "Ticket          object\n",
       "Fare           float64\n",
       "Cabin           object\n",
       "Embarked        object\n",
       "dtype: object"
      ]
     },
     "execution_count": 309,
     "metadata": {},
     "output_type": "execute_result"
    }
   ],
   "source": [
    " df.dtypes"
   ]
  },
  {
   "cell_type": "markdown",
   "id": "ab2270ee-856c-4039-a516-9f8daa6e67c0",
   "metadata": {},
   "source": [
    "There are three different types of data(int64,float and object) present in the dataset."
   ]
  },
  {
   "cell_type": "code",
   "execution_count": 310,
   "id": "95e71e56-7bf0-4056-a9d3-a1ec2fc1ada1",
   "metadata": {},
   "outputs": [
    {
     "data": {
      "text/plain": [
       "PassengerId      0\n",
       "Survived         0\n",
       "Pclass           0\n",
       "Name             0\n",
       "Sex              0\n",
       "Age            177\n",
       "SibSp            0\n",
       "Parch            0\n",
       "Ticket           0\n",
       "Fare             0\n",
       "Cabin          687\n",
       "Embarked         2\n",
       "dtype: int64"
      ]
     },
     "execution_count": 310,
     "metadata": {},
     "output_type": "execute_result"
    }
   ],
   "source": [
    "df.isnull().sum()"
   ]
  },
  {
   "cell_type": "code",
   "execution_count": 311,
   "id": "62ba9745-8a4e-4f8c-b9c4-ba4044c5e042",
   "metadata": {},
   "outputs": [
    {
     "data": {
      "text/html": [
       "<div>\n",
       "<style scoped>\n",
       "    .dataframe tbody tr th:only-of-type {\n",
       "        vertical-align: middle;\n",
       "    }\n",
       "\n",
       "    .dataframe tbody tr th {\n",
       "        vertical-align: top;\n",
       "    }\n",
       "\n",
       "    .dataframe thead th {\n",
       "        text-align: right;\n",
       "    }\n",
       "</style>\n",
       "<table border=\"1\" class=\"dataframe\">\n",
       "  <thead>\n",
       "    <tr style=\"text-align: right;\">\n",
       "      <th></th>\n",
       "      <th>PassengerId</th>\n",
       "      <th>Survived</th>\n",
       "      <th>Pclass</th>\n",
       "      <th>Name</th>\n",
       "      <th>Sex</th>\n",
       "      <th>Age</th>\n",
       "      <th>SibSp</th>\n",
       "      <th>Parch</th>\n",
       "      <th>Ticket</th>\n",
       "      <th>Fare</th>\n",
       "      <th>Cabin</th>\n",
       "      <th>Embarked</th>\n",
       "    </tr>\n",
       "  </thead>\n",
       "  <tbody>\n",
       "    <tr>\n",
       "      <th>0</th>\n",
       "      <td>1</td>\n",
       "      <td>0</td>\n",
       "      <td>3</td>\n",
       "      <td>Braund, Mr. Owen Harris</td>\n",
       "      <td>male</td>\n",
       "      <td>22.0</td>\n",
       "      <td>1</td>\n",
       "      <td>0</td>\n",
       "      <td>A/5 21171</td>\n",
       "      <td>7.2500</td>\n",
       "      <td>NaN</td>\n",
       "      <td>2</td>\n",
       "    </tr>\n",
       "    <tr>\n",
       "      <th>1</th>\n",
       "      <td>2</td>\n",
       "      <td>1</td>\n",
       "      <td>1</td>\n",
       "      <td>Cumings, Mrs. John Bradley (Florence Briggs Th...</td>\n",
       "      <td>female</td>\n",
       "      <td>38.0</td>\n",
       "      <td>1</td>\n",
       "      <td>0</td>\n",
       "      <td>PC 17599</td>\n",
       "      <td>71.2833</td>\n",
       "      <td>C85</td>\n",
       "      <td>0</td>\n",
       "    </tr>\n",
       "    <tr>\n",
       "      <th>2</th>\n",
       "      <td>3</td>\n",
       "      <td>1</td>\n",
       "      <td>3</td>\n",
       "      <td>Heikkinen, Miss. Laina</td>\n",
       "      <td>female</td>\n",
       "      <td>26.0</td>\n",
       "      <td>0</td>\n",
       "      <td>0</td>\n",
       "      <td>STON/O2. 3101282</td>\n",
       "      <td>7.9250</td>\n",
       "      <td>NaN</td>\n",
       "      <td>2</td>\n",
       "    </tr>\n",
       "    <tr>\n",
       "      <th>3</th>\n",
       "      <td>4</td>\n",
       "      <td>1</td>\n",
       "      <td>1</td>\n",
       "      <td>Futrelle, Mrs. Jacques Heath (Lily May Peel)</td>\n",
       "      <td>female</td>\n",
       "      <td>35.0</td>\n",
       "      <td>1</td>\n",
       "      <td>0</td>\n",
       "      <td>113803</td>\n",
       "      <td>53.1000</td>\n",
       "      <td>C123</td>\n",
       "      <td>2</td>\n",
       "    </tr>\n",
       "    <tr>\n",
       "      <th>4</th>\n",
       "      <td>5</td>\n",
       "      <td>0</td>\n",
       "      <td>3</td>\n",
       "      <td>Allen, Mr. William Henry</td>\n",
       "      <td>male</td>\n",
       "      <td>35.0</td>\n",
       "      <td>0</td>\n",
       "      <td>0</td>\n",
       "      <td>373450</td>\n",
       "      <td>8.0500</td>\n",
       "      <td>NaN</td>\n",
       "      <td>2</td>\n",
       "    </tr>\n",
       "    <tr>\n",
       "      <th>...</th>\n",
       "      <td>...</td>\n",
       "      <td>...</td>\n",
       "      <td>...</td>\n",
       "      <td>...</td>\n",
       "      <td>...</td>\n",
       "      <td>...</td>\n",
       "      <td>...</td>\n",
       "      <td>...</td>\n",
       "      <td>...</td>\n",
       "      <td>...</td>\n",
       "      <td>...</td>\n",
       "      <td>...</td>\n",
       "    </tr>\n",
       "    <tr>\n",
       "      <th>886</th>\n",
       "      <td>887</td>\n",
       "      <td>0</td>\n",
       "      <td>2</td>\n",
       "      <td>Montvila, Rev. Juozas</td>\n",
       "      <td>male</td>\n",
       "      <td>27.0</td>\n",
       "      <td>0</td>\n",
       "      <td>0</td>\n",
       "      <td>211536</td>\n",
       "      <td>13.0000</td>\n",
       "      <td>NaN</td>\n",
       "      <td>2</td>\n",
       "    </tr>\n",
       "    <tr>\n",
       "      <th>887</th>\n",
       "      <td>888</td>\n",
       "      <td>1</td>\n",
       "      <td>1</td>\n",
       "      <td>Graham, Miss. Margaret Edith</td>\n",
       "      <td>female</td>\n",
       "      <td>19.0</td>\n",
       "      <td>0</td>\n",
       "      <td>0</td>\n",
       "      <td>112053</td>\n",
       "      <td>30.0000</td>\n",
       "      <td>B42</td>\n",
       "      <td>2</td>\n",
       "    </tr>\n",
       "    <tr>\n",
       "      <th>888</th>\n",
       "      <td>889</td>\n",
       "      <td>0</td>\n",
       "      <td>3</td>\n",
       "      <td>Johnston, Miss. Catherine Helen \"Carrie\"</td>\n",
       "      <td>female</td>\n",
       "      <td>NaN</td>\n",
       "      <td>1</td>\n",
       "      <td>2</td>\n",
       "      <td>W./C. 6607</td>\n",
       "      <td>23.4500</td>\n",
       "      <td>NaN</td>\n",
       "      <td>2</td>\n",
       "    </tr>\n",
       "    <tr>\n",
       "      <th>889</th>\n",
       "      <td>890</td>\n",
       "      <td>1</td>\n",
       "      <td>1</td>\n",
       "      <td>Behr, Mr. Karl Howell</td>\n",
       "      <td>male</td>\n",
       "      <td>26.0</td>\n",
       "      <td>0</td>\n",
       "      <td>0</td>\n",
       "      <td>111369</td>\n",
       "      <td>30.0000</td>\n",
       "      <td>C148</td>\n",
       "      <td>0</td>\n",
       "    </tr>\n",
       "    <tr>\n",
       "      <th>890</th>\n",
       "      <td>891</td>\n",
       "      <td>0</td>\n",
       "      <td>3</td>\n",
       "      <td>Dooley, Mr. Patrick</td>\n",
       "      <td>male</td>\n",
       "      <td>32.0</td>\n",
       "      <td>0</td>\n",
       "      <td>0</td>\n",
       "      <td>370376</td>\n",
       "      <td>7.7500</td>\n",
       "      <td>NaN</td>\n",
       "      <td>1</td>\n",
       "    </tr>\n",
       "  </tbody>\n",
       "</table>\n",
       "<p>891 rows × 12 columns</p>\n",
       "</div>"
      ],
      "text/plain": [
       "     PassengerId  Survived  Pclass  \\\n",
       "0              1         0       3   \n",
       "1              2         1       1   \n",
       "2              3         1       3   \n",
       "3              4         1       1   \n",
       "4              5         0       3   \n",
       "..           ...       ...     ...   \n",
       "886          887         0       2   \n",
       "887          888         1       1   \n",
       "888          889         0       3   \n",
       "889          890         1       1   \n",
       "890          891         0       3   \n",
       "\n",
       "                                                  Name     Sex   Age  SibSp  \\\n",
       "0                              Braund, Mr. Owen Harris    male  22.0      1   \n",
       "1    Cumings, Mrs. John Bradley (Florence Briggs Th...  female  38.0      1   \n",
       "2                               Heikkinen, Miss. Laina  female  26.0      0   \n",
       "3         Futrelle, Mrs. Jacques Heath (Lily May Peel)  female  35.0      1   \n",
       "4                             Allen, Mr. William Henry    male  35.0      0   \n",
       "..                                                 ...     ...   ...    ...   \n",
       "886                              Montvila, Rev. Juozas    male  27.0      0   \n",
       "887                       Graham, Miss. Margaret Edith  female  19.0      0   \n",
       "888           Johnston, Miss. Catherine Helen \"Carrie\"  female   NaN      1   \n",
       "889                              Behr, Mr. Karl Howell    male  26.0      0   \n",
       "890                                Dooley, Mr. Patrick    male  32.0      0   \n",
       "\n",
       "     Parch            Ticket     Fare Cabin  Embarked  \n",
       "0        0         A/5 21171   7.2500   NaN         2  \n",
       "1        0          PC 17599  71.2833   C85         0  \n",
       "2        0  STON/O2. 3101282   7.9250   NaN         2  \n",
       "3        0            113803  53.1000  C123         2  \n",
       "4        0            373450   8.0500   NaN         2  \n",
       "..     ...               ...      ...   ...       ...  \n",
       "886      0            211536  13.0000   NaN         2  \n",
       "887      0            112053  30.0000   B42         2  \n",
       "888      2        W./C. 6607  23.4500   NaN         2  \n",
       "889      0            111369  30.0000  C148         0  \n",
       "890      0            370376   7.7500   NaN         1  \n",
       "\n",
       "[891 rows x 12 columns]"
      ]
     },
     "execution_count": 311,
     "metadata": {},
     "output_type": "execute_result"
    }
   ],
   "source": [
    "#Here we here doing some preprocessing of the data.\n",
    "from sklearn.preprocessing import LabelEncoder\n",
    "le_Embarked = LabelEncoder()\n",
    "df['Embarked'] = le_Embarked.fit_transform(df['Embarked'])\n",
    "df"
   ]
  },
  {
   "cell_type": "code",
   "execution_count": 312,
   "id": "352d41ed-fc21-4e6d-8795-67600646a27b",
   "metadata": {},
   "outputs": [],
   "source": [
    "#Here we are filling the missisng values by using KNN\n",
    "from sklearn.impute import KNNImputer\n",
    "\n",
    "df1 = df.copy()\n",
    "columns_to_impute = ['Embarked']\n",
    "imputer = KNNImputer(n_neighbors=5)\n",
    "df1[columns_to_impute] = imputer.fit_transform(df1[columns_to_impute])\n",
    "\n"
   ]
  },
  {
   "cell_type": "code",
   "execution_count": 313,
   "id": "34a471ad-ec5c-4fdd-9c06-526a20aa6e5c",
   "metadata": {},
   "outputs": [],
   "source": [
    "#here we are filling missing value withe the median value.\n",
    "from sklearn.impute import SimpleImputer\n",
    "\n",
    "df2 = df1.copy()\n",
    "columns_to_impute = ['Age']\n",
    "imputer_median = SimpleImputer(strategy='median')\n",
    "df2[columns_to_impute] = imputer_median.fit_transform(df2[columns_to_impute])\n",
    "\n"
   ]
  },
  {
   "cell_type": "code",
   "execution_count": 314,
   "id": "505da8cb-d888-4adc-9b13-681897141da5",
   "metadata": {},
   "outputs": [
    {
     "data": {
      "text/html": [
       "<div>\n",
       "<style scoped>\n",
       "    .dataframe tbody tr th:only-of-type {\n",
       "        vertical-align: middle;\n",
       "    }\n",
       "\n",
       "    .dataframe tbody tr th {\n",
       "        vertical-align: top;\n",
       "    }\n",
       "\n",
       "    .dataframe thead th {\n",
       "        text-align: right;\n",
       "    }\n",
       "</style>\n",
       "<table border=\"1\" class=\"dataframe\">\n",
       "  <thead>\n",
       "    <tr style=\"text-align: right;\">\n",
       "      <th></th>\n",
       "      <th>PassengerId</th>\n",
       "      <th>Survived</th>\n",
       "      <th>Pclass</th>\n",
       "      <th>Name</th>\n",
       "      <th>Sex</th>\n",
       "      <th>Age</th>\n",
       "      <th>SibSp</th>\n",
       "      <th>Parch</th>\n",
       "      <th>Ticket</th>\n",
       "      <th>Fare</th>\n",
       "      <th>Cabin</th>\n",
       "      <th>Embarked</th>\n",
       "    </tr>\n",
       "  </thead>\n",
       "  <tbody>\n",
       "    <tr>\n",
       "      <th>0</th>\n",
       "      <td>1</td>\n",
       "      <td>0</td>\n",
       "      <td>3</td>\n",
       "      <td>Braund, Mr. Owen Harris</td>\n",
       "      <td>male</td>\n",
       "      <td>22.0</td>\n",
       "      <td>1</td>\n",
       "      <td>0</td>\n",
       "      <td>A/5 21171</td>\n",
       "      <td>7.2500</td>\n",
       "      <td>NaN</td>\n",
       "      <td>2.0</td>\n",
       "    </tr>\n",
       "    <tr>\n",
       "      <th>1</th>\n",
       "      <td>2</td>\n",
       "      <td>1</td>\n",
       "      <td>1</td>\n",
       "      <td>Cumings, Mrs. John Bradley (Florence Briggs Th...</td>\n",
       "      <td>female</td>\n",
       "      <td>38.0</td>\n",
       "      <td>1</td>\n",
       "      <td>0</td>\n",
       "      <td>PC 17599</td>\n",
       "      <td>71.2833</td>\n",
       "      <td>C85</td>\n",
       "      <td>0.0</td>\n",
       "    </tr>\n",
       "    <tr>\n",
       "      <th>2</th>\n",
       "      <td>3</td>\n",
       "      <td>1</td>\n",
       "      <td>3</td>\n",
       "      <td>Heikkinen, Miss. Laina</td>\n",
       "      <td>female</td>\n",
       "      <td>26.0</td>\n",
       "      <td>0</td>\n",
       "      <td>0</td>\n",
       "      <td>STON/O2. 3101282</td>\n",
       "      <td>7.9250</td>\n",
       "      <td>NaN</td>\n",
       "      <td>2.0</td>\n",
       "    </tr>\n",
       "    <tr>\n",
       "      <th>3</th>\n",
       "      <td>4</td>\n",
       "      <td>1</td>\n",
       "      <td>1</td>\n",
       "      <td>Futrelle, Mrs. Jacques Heath (Lily May Peel)</td>\n",
       "      <td>female</td>\n",
       "      <td>35.0</td>\n",
       "      <td>1</td>\n",
       "      <td>0</td>\n",
       "      <td>113803</td>\n",
       "      <td>53.1000</td>\n",
       "      <td>C123</td>\n",
       "      <td>2.0</td>\n",
       "    </tr>\n",
       "    <tr>\n",
       "      <th>4</th>\n",
       "      <td>5</td>\n",
       "      <td>0</td>\n",
       "      <td>3</td>\n",
       "      <td>Allen, Mr. William Henry</td>\n",
       "      <td>male</td>\n",
       "      <td>35.0</td>\n",
       "      <td>0</td>\n",
       "      <td>0</td>\n",
       "      <td>373450</td>\n",
       "      <td>8.0500</td>\n",
       "      <td>NaN</td>\n",
       "      <td>2.0</td>\n",
       "    </tr>\n",
       "    <tr>\n",
       "      <th>...</th>\n",
       "      <td>...</td>\n",
       "      <td>...</td>\n",
       "      <td>...</td>\n",
       "      <td>...</td>\n",
       "      <td>...</td>\n",
       "      <td>...</td>\n",
       "      <td>...</td>\n",
       "      <td>...</td>\n",
       "      <td>...</td>\n",
       "      <td>...</td>\n",
       "      <td>...</td>\n",
       "      <td>...</td>\n",
       "    </tr>\n",
       "    <tr>\n",
       "      <th>886</th>\n",
       "      <td>887</td>\n",
       "      <td>0</td>\n",
       "      <td>2</td>\n",
       "      <td>Montvila, Rev. Juozas</td>\n",
       "      <td>male</td>\n",
       "      <td>27.0</td>\n",
       "      <td>0</td>\n",
       "      <td>0</td>\n",
       "      <td>211536</td>\n",
       "      <td>13.0000</td>\n",
       "      <td>NaN</td>\n",
       "      <td>2.0</td>\n",
       "    </tr>\n",
       "    <tr>\n",
       "      <th>887</th>\n",
       "      <td>888</td>\n",
       "      <td>1</td>\n",
       "      <td>1</td>\n",
       "      <td>Graham, Miss. Margaret Edith</td>\n",
       "      <td>female</td>\n",
       "      <td>19.0</td>\n",
       "      <td>0</td>\n",
       "      <td>0</td>\n",
       "      <td>112053</td>\n",
       "      <td>30.0000</td>\n",
       "      <td>B42</td>\n",
       "      <td>2.0</td>\n",
       "    </tr>\n",
       "    <tr>\n",
       "      <th>888</th>\n",
       "      <td>889</td>\n",
       "      <td>0</td>\n",
       "      <td>3</td>\n",
       "      <td>Johnston, Miss. Catherine Helen \"Carrie\"</td>\n",
       "      <td>female</td>\n",
       "      <td>28.0</td>\n",
       "      <td>1</td>\n",
       "      <td>2</td>\n",
       "      <td>W./C. 6607</td>\n",
       "      <td>23.4500</td>\n",
       "      <td>NaN</td>\n",
       "      <td>2.0</td>\n",
       "    </tr>\n",
       "    <tr>\n",
       "      <th>889</th>\n",
       "      <td>890</td>\n",
       "      <td>1</td>\n",
       "      <td>1</td>\n",
       "      <td>Behr, Mr. Karl Howell</td>\n",
       "      <td>male</td>\n",
       "      <td>26.0</td>\n",
       "      <td>0</td>\n",
       "      <td>0</td>\n",
       "      <td>111369</td>\n",
       "      <td>30.0000</td>\n",
       "      <td>C148</td>\n",
       "      <td>0.0</td>\n",
       "    </tr>\n",
       "    <tr>\n",
       "      <th>890</th>\n",
       "      <td>891</td>\n",
       "      <td>0</td>\n",
       "      <td>3</td>\n",
       "      <td>Dooley, Mr. Patrick</td>\n",
       "      <td>male</td>\n",
       "      <td>32.0</td>\n",
       "      <td>0</td>\n",
       "      <td>0</td>\n",
       "      <td>370376</td>\n",
       "      <td>7.7500</td>\n",
       "      <td>NaN</td>\n",
       "      <td>1.0</td>\n",
       "    </tr>\n",
       "  </tbody>\n",
       "</table>\n",
       "<p>891 rows × 12 columns</p>\n",
       "</div>"
      ],
      "text/plain": [
       "     PassengerId  Survived  Pclass  \\\n",
       "0              1         0       3   \n",
       "1              2         1       1   \n",
       "2              3         1       3   \n",
       "3              4         1       1   \n",
       "4              5         0       3   \n",
       "..           ...       ...     ...   \n",
       "886          887         0       2   \n",
       "887          888         1       1   \n",
       "888          889         0       3   \n",
       "889          890         1       1   \n",
       "890          891         0       3   \n",
       "\n",
       "                                                  Name     Sex   Age  SibSp  \\\n",
       "0                              Braund, Mr. Owen Harris    male  22.0      1   \n",
       "1    Cumings, Mrs. John Bradley (Florence Briggs Th...  female  38.0      1   \n",
       "2                               Heikkinen, Miss. Laina  female  26.0      0   \n",
       "3         Futrelle, Mrs. Jacques Heath (Lily May Peel)  female  35.0      1   \n",
       "4                             Allen, Mr. William Henry    male  35.0      0   \n",
       "..                                                 ...     ...   ...    ...   \n",
       "886                              Montvila, Rev. Juozas    male  27.0      0   \n",
       "887                       Graham, Miss. Margaret Edith  female  19.0      0   \n",
       "888           Johnston, Miss. Catherine Helen \"Carrie\"  female  28.0      1   \n",
       "889                              Behr, Mr. Karl Howell    male  26.0      0   \n",
       "890                                Dooley, Mr. Patrick    male  32.0      0   \n",
       "\n",
       "     Parch            Ticket     Fare Cabin  Embarked  \n",
       "0        0         A/5 21171   7.2500   NaN       2.0  \n",
       "1        0          PC 17599  71.2833   C85       0.0  \n",
       "2        0  STON/O2. 3101282   7.9250   NaN       2.0  \n",
       "3        0            113803  53.1000  C123       2.0  \n",
       "4        0            373450   8.0500   NaN       2.0  \n",
       "..     ...               ...      ...   ...       ...  \n",
       "886      0            211536  13.0000   NaN       2.0  \n",
       "887      0            112053  30.0000   B42       2.0  \n",
       "888      2        W./C. 6607  23.4500   NaN       2.0  \n",
       "889      0            111369  30.0000  C148       0.0  \n",
       "890      0            370376   7.7500   NaN       1.0  \n",
       "\n",
       "[891 rows x 12 columns]"
      ]
     },
     "execution_count": 314,
     "metadata": {},
     "output_type": "execute_result"
    }
   ],
   "source": [
    "df=df2\n",
    "df"
   ]
  },
  {
   "cell_type": "code",
   "execution_count": 315,
   "id": "8edbd8eb-69ac-487d-97b2-28743090d9f7",
   "metadata": {},
   "outputs": [
    {
     "data": {
      "text/plain": [
       "PassengerId      0\n",
       "Survived         0\n",
       "Pclass           0\n",
       "Name             0\n",
       "Sex              0\n",
       "Age              0\n",
       "SibSp            0\n",
       "Parch            0\n",
       "Ticket           0\n",
       "Fare             0\n",
       "Cabin          687\n",
       "Embarked         0\n",
       "dtype: int64"
      ]
     },
     "execution_count": 315,
     "metadata": {},
     "output_type": "execute_result"
    }
   ],
   "source": [
    "df.isnull().sum()"
   ]
  },
  {
   "cell_type": "code",
   "execution_count": 316,
   "id": "7bc97740-724e-406a-b48d-6a7631345407",
   "metadata": {},
   "outputs": [],
   "source": [
    "#converting string datatype to float\n",
    "df['PassengerId'] = df['PassengerId'].astype(float)\n"
   ]
  },
  {
   "cell_type": "code",
   "execution_count": 317,
   "id": "d0106532-b338-4320-8a62-6a75f0ad133f",
   "metadata": {},
   "outputs": [
    {
     "data": {
      "text/html": [
       "<div>\n",
       "<style scoped>\n",
       "    .dataframe tbody tr th:only-of-type {\n",
       "        vertical-align: middle;\n",
       "    }\n",
       "\n",
       "    .dataframe tbody tr th {\n",
       "        vertical-align: top;\n",
       "    }\n",
       "\n",
       "    .dataframe thead th {\n",
       "        text-align: right;\n",
       "    }\n",
       "</style>\n",
       "<table border=\"1\" class=\"dataframe\">\n",
       "  <thead>\n",
       "    <tr style=\"text-align: right;\">\n",
       "      <th></th>\n",
       "      <th>PassengerId</th>\n",
       "      <th>Survived</th>\n",
       "      <th>Pclass</th>\n",
       "      <th>Name</th>\n",
       "      <th>Sex</th>\n",
       "      <th>Age</th>\n",
       "      <th>SibSp</th>\n",
       "      <th>Parch</th>\n",
       "      <th>Ticket</th>\n",
       "      <th>Fare</th>\n",
       "      <th>Embarked</th>\n",
       "    </tr>\n",
       "  </thead>\n",
       "  <tbody>\n",
       "    <tr>\n",
       "      <th>0</th>\n",
       "      <td>1.0</td>\n",
       "      <td>0</td>\n",
       "      <td>3</td>\n",
       "      <td>Braund, Mr. Owen Harris</td>\n",
       "      <td>male</td>\n",
       "      <td>22.0</td>\n",
       "      <td>1</td>\n",
       "      <td>0</td>\n",
       "      <td>A/5 21171</td>\n",
       "      <td>7.2500</td>\n",
       "      <td>2.0</td>\n",
       "    </tr>\n",
       "    <tr>\n",
       "      <th>1</th>\n",
       "      <td>2.0</td>\n",
       "      <td>1</td>\n",
       "      <td>1</td>\n",
       "      <td>Cumings, Mrs. John Bradley (Florence Briggs Th...</td>\n",
       "      <td>female</td>\n",
       "      <td>38.0</td>\n",
       "      <td>1</td>\n",
       "      <td>0</td>\n",
       "      <td>PC 17599</td>\n",
       "      <td>71.2833</td>\n",
       "      <td>0.0</td>\n",
       "    </tr>\n",
       "    <tr>\n",
       "      <th>2</th>\n",
       "      <td>3.0</td>\n",
       "      <td>1</td>\n",
       "      <td>3</td>\n",
       "      <td>Heikkinen, Miss. Laina</td>\n",
       "      <td>female</td>\n",
       "      <td>26.0</td>\n",
       "      <td>0</td>\n",
       "      <td>0</td>\n",
       "      <td>STON/O2. 3101282</td>\n",
       "      <td>7.9250</td>\n",
       "      <td>2.0</td>\n",
       "    </tr>\n",
       "    <tr>\n",
       "      <th>3</th>\n",
       "      <td>4.0</td>\n",
       "      <td>1</td>\n",
       "      <td>1</td>\n",
       "      <td>Futrelle, Mrs. Jacques Heath (Lily May Peel)</td>\n",
       "      <td>female</td>\n",
       "      <td>35.0</td>\n",
       "      <td>1</td>\n",
       "      <td>0</td>\n",
       "      <td>113803</td>\n",
       "      <td>53.1000</td>\n",
       "      <td>2.0</td>\n",
       "    </tr>\n",
       "    <tr>\n",
       "      <th>4</th>\n",
       "      <td>5.0</td>\n",
       "      <td>0</td>\n",
       "      <td>3</td>\n",
       "      <td>Allen, Mr. William Henry</td>\n",
       "      <td>male</td>\n",
       "      <td>35.0</td>\n",
       "      <td>0</td>\n",
       "      <td>0</td>\n",
       "      <td>373450</td>\n",
       "      <td>8.0500</td>\n",
       "      <td>2.0</td>\n",
       "    </tr>\n",
       "    <tr>\n",
       "      <th>...</th>\n",
       "      <td>...</td>\n",
       "      <td>...</td>\n",
       "      <td>...</td>\n",
       "      <td>...</td>\n",
       "      <td>...</td>\n",
       "      <td>...</td>\n",
       "      <td>...</td>\n",
       "      <td>...</td>\n",
       "      <td>...</td>\n",
       "      <td>...</td>\n",
       "      <td>...</td>\n",
       "    </tr>\n",
       "    <tr>\n",
       "      <th>886</th>\n",
       "      <td>887.0</td>\n",
       "      <td>0</td>\n",
       "      <td>2</td>\n",
       "      <td>Montvila, Rev. Juozas</td>\n",
       "      <td>male</td>\n",
       "      <td>27.0</td>\n",
       "      <td>0</td>\n",
       "      <td>0</td>\n",
       "      <td>211536</td>\n",
       "      <td>13.0000</td>\n",
       "      <td>2.0</td>\n",
       "    </tr>\n",
       "    <tr>\n",
       "      <th>887</th>\n",
       "      <td>888.0</td>\n",
       "      <td>1</td>\n",
       "      <td>1</td>\n",
       "      <td>Graham, Miss. Margaret Edith</td>\n",
       "      <td>female</td>\n",
       "      <td>19.0</td>\n",
       "      <td>0</td>\n",
       "      <td>0</td>\n",
       "      <td>112053</td>\n",
       "      <td>30.0000</td>\n",
       "      <td>2.0</td>\n",
       "    </tr>\n",
       "    <tr>\n",
       "      <th>888</th>\n",
       "      <td>889.0</td>\n",
       "      <td>0</td>\n",
       "      <td>3</td>\n",
       "      <td>Johnston, Miss. Catherine Helen \"Carrie\"</td>\n",
       "      <td>female</td>\n",
       "      <td>28.0</td>\n",
       "      <td>1</td>\n",
       "      <td>2</td>\n",
       "      <td>W./C. 6607</td>\n",
       "      <td>23.4500</td>\n",
       "      <td>2.0</td>\n",
       "    </tr>\n",
       "    <tr>\n",
       "      <th>889</th>\n",
       "      <td>890.0</td>\n",
       "      <td>1</td>\n",
       "      <td>1</td>\n",
       "      <td>Behr, Mr. Karl Howell</td>\n",
       "      <td>male</td>\n",
       "      <td>26.0</td>\n",
       "      <td>0</td>\n",
       "      <td>0</td>\n",
       "      <td>111369</td>\n",
       "      <td>30.0000</td>\n",
       "      <td>0.0</td>\n",
       "    </tr>\n",
       "    <tr>\n",
       "      <th>890</th>\n",
       "      <td>891.0</td>\n",
       "      <td>0</td>\n",
       "      <td>3</td>\n",
       "      <td>Dooley, Mr. Patrick</td>\n",
       "      <td>male</td>\n",
       "      <td>32.0</td>\n",
       "      <td>0</td>\n",
       "      <td>0</td>\n",
       "      <td>370376</td>\n",
       "      <td>7.7500</td>\n",
       "      <td>1.0</td>\n",
       "    </tr>\n",
       "  </tbody>\n",
       "</table>\n",
       "<p>891 rows × 11 columns</p>\n",
       "</div>"
      ],
      "text/plain": [
       "     PassengerId  Survived  Pclass  \\\n",
       "0            1.0         0       3   \n",
       "1            2.0         1       1   \n",
       "2            3.0         1       3   \n",
       "3            4.0         1       1   \n",
       "4            5.0         0       3   \n",
       "..           ...       ...     ...   \n",
       "886        887.0         0       2   \n",
       "887        888.0         1       1   \n",
       "888        889.0         0       3   \n",
       "889        890.0         1       1   \n",
       "890        891.0         0       3   \n",
       "\n",
       "                                                  Name     Sex   Age  SibSp  \\\n",
       "0                              Braund, Mr. Owen Harris    male  22.0      1   \n",
       "1    Cumings, Mrs. John Bradley (Florence Briggs Th...  female  38.0      1   \n",
       "2                               Heikkinen, Miss. Laina  female  26.0      0   \n",
       "3         Futrelle, Mrs. Jacques Heath (Lily May Peel)  female  35.0      1   \n",
       "4                             Allen, Mr. William Henry    male  35.0      0   \n",
       "..                                                 ...     ...   ...    ...   \n",
       "886                              Montvila, Rev. Juozas    male  27.0      0   \n",
       "887                       Graham, Miss. Margaret Edith  female  19.0      0   \n",
       "888           Johnston, Miss. Catherine Helen \"Carrie\"  female  28.0      1   \n",
       "889                              Behr, Mr. Karl Howell    male  26.0      0   \n",
       "890                                Dooley, Mr. Patrick    male  32.0      0   \n",
       "\n",
       "     Parch            Ticket     Fare  Embarked  \n",
       "0        0         A/5 21171   7.2500       2.0  \n",
       "1        0          PC 17599  71.2833       0.0  \n",
       "2        0  STON/O2. 3101282   7.9250       2.0  \n",
       "3        0            113803  53.1000       2.0  \n",
       "4        0            373450   8.0500       2.0  \n",
       "..     ...               ...      ...       ...  \n",
       "886      0            211536  13.0000       2.0  \n",
       "887      0            112053  30.0000       2.0  \n",
       "888      2        W./C. 6607  23.4500       2.0  \n",
       "889      0            111369  30.0000       0.0  \n",
       "890      0            370376   7.7500       1.0  \n",
       "\n",
       "[891 rows x 11 columns]"
      ]
     },
     "execution_count": 317,
     "metadata": {},
     "output_type": "execute_result"
    }
   ],
   "source": [
    "#We will drop the Cabin column as it has 687 values missing out of 891 values.\n",
    "df.drop(columns='Cabin', inplace=True)\n",
    "df"
   ]
  },
  {
   "cell_type": "code",
   "execution_count": 318,
   "id": "3ec6b4b7-743e-4287-b963-ad7203e350e5",
   "metadata": {},
   "outputs": [
    {
     "name": "stdout",
     "output_type": "stream",
     "text": [
      "Catagorical columns: ['Name', 'Sex', 'Ticket']\n",
      "\n",
      "\n",
      "Numerical columns: ['PassengerId', 'Survived', 'Pclass', 'Age', 'SibSp', 'Parch', 'Fare', 'Embarked']\n",
      "\n",
      "\n"
     ]
    }
   ],
   "source": [
    "#Seperating the Numerical and categorical columns\n",
    "\n",
    "#checking for catagorical columns\n",
    "cat_col=[]\n",
    "for i in df.dtypes.index:\n",
    "    if df.dtypes[i]== 'object':\n",
    "        cat_col.append(i)\n",
    "print(\"Catagorical columns:\", cat_col)\n",
    "print('\\n')\n",
    "\n",
    "#checking for numercial columns \n",
    "num_col=[]\n",
    "for i in df.dtypes.index:\n",
    "    if df.dtypes[i]!='object':\n",
    "        num_col.append(i)\n",
    "print(\"Numerical columns:\", num_col)\n",
    "print('\\n')"
   ]
  },
  {
   "cell_type": "code",
   "execution_count": 319,
   "id": "8d6270b5-c530-4ab4-8507-777937f05464",
   "metadata": {},
   "outputs": [
    {
     "data": {
      "text/html": [
       "<div>\n",
       "<style scoped>\n",
       "    .dataframe tbody tr th:only-of-type {\n",
       "        vertical-align: middle;\n",
       "    }\n",
       "\n",
       "    .dataframe tbody tr th {\n",
       "        vertical-align: top;\n",
       "    }\n",
       "\n",
       "    .dataframe thead th {\n",
       "        text-align: right;\n",
       "    }\n",
       "</style>\n",
       "<table border=\"1\" class=\"dataframe\">\n",
       "  <thead>\n",
       "    <tr style=\"text-align: right;\">\n",
       "      <th></th>\n",
       "      <th>No. of unique values</th>\n",
       "    </tr>\n",
       "  </thead>\n",
       "  <tbody>\n",
       "    <tr>\n",
       "      <th>PassengerId</th>\n",
       "      <td>891</td>\n",
       "    </tr>\n",
       "    <tr>\n",
       "      <th>Survived</th>\n",
       "      <td>2</td>\n",
       "    </tr>\n",
       "    <tr>\n",
       "      <th>Pclass</th>\n",
       "      <td>3</td>\n",
       "    </tr>\n",
       "    <tr>\n",
       "      <th>Name</th>\n",
       "      <td>891</td>\n",
       "    </tr>\n",
       "    <tr>\n",
       "      <th>Sex</th>\n",
       "      <td>2</td>\n",
       "    </tr>\n",
       "    <tr>\n",
       "      <th>Age</th>\n",
       "      <td>88</td>\n",
       "    </tr>\n",
       "    <tr>\n",
       "      <th>SibSp</th>\n",
       "      <td>7</td>\n",
       "    </tr>\n",
       "    <tr>\n",
       "      <th>Parch</th>\n",
       "      <td>7</td>\n",
       "    </tr>\n",
       "    <tr>\n",
       "      <th>Ticket</th>\n",
       "      <td>681</td>\n",
       "    </tr>\n",
       "    <tr>\n",
       "      <th>Fare</th>\n",
       "      <td>248</td>\n",
       "    </tr>\n",
       "    <tr>\n",
       "      <th>Embarked</th>\n",
       "      <td>4</td>\n",
       "    </tr>\n",
       "  </tbody>\n",
       "</table>\n",
       "</div>"
      ],
      "text/plain": [
       "             No. of unique values\n",
       "PassengerId                   891\n",
       "Survived                        2\n",
       "Pclass                          3\n",
       "Name                          891\n",
       "Sex                             2\n",
       "Age                            88\n",
       "SibSp                           7\n",
       "Parch                           7\n",
       "Ticket                        681\n",
       "Fare                          248\n",
       "Embarked                        4"
      ]
     },
     "execution_count": 319,
     "metadata": {},
     "output_type": "execute_result"
    }
   ],
   "source": [
    "df.nunique().to_frame(\"No. of unique values\")"
   ]
  },
  {
   "cell_type": "code",
   "execution_count": 320,
   "id": "079427d5-e929-47f3-9502-fdae730d5644",
   "metadata": {},
   "outputs": [
    {
     "name": "stdout",
     "output_type": "stream",
     "text": [
      "Total Duplicated Rows are  0\n"
     ]
    }
   ],
   "source": [
    "print('Total Duplicated Rows are ',df.duplicated().sum())"
   ]
  },
  {
   "cell_type": "code",
   "execution_count": 321,
   "id": "31812350-0771-4569-9b11-e327c1367a92",
   "metadata": {},
   "outputs": [
    {
     "data": {
      "text/html": [
       "<div>\n",
       "<style scoped>\n",
       "    .dataframe tbody tr th:only-of-type {\n",
       "        vertical-align: middle;\n",
       "    }\n",
       "\n",
       "    .dataframe tbody tr th {\n",
       "        vertical-align: top;\n",
       "    }\n",
       "\n",
       "    .dataframe thead th {\n",
       "        text-align: right;\n",
       "    }\n",
       "</style>\n",
       "<table border=\"1\" class=\"dataframe\">\n",
       "  <thead>\n",
       "    <tr style=\"text-align: right;\">\n",
       "      <th></th>\n",
       "      <th>PassengerId</th>\n",
       "      <th>Survived</th>\n",
       "      <th>Pclass</th>\n",
       "      <th>Age</th>\n",
       "      <th>SibSp</th>\n",
       "      <th>Parch</th>\n",
       "      <th>Fare</th>\n",
       "      <th>Embarked</th>\n",
       "    </tr>\n",
       "  </thead>\n",
       "  <tbody>\n",
       "    <tr>\n",
       "      <th>count</th>\n",
       "      <td>891.000000</td>\n",
       "      <td>891.000000</td>\n",
       "      <td>891.000000</td>\n",
       "      <td>891.000000</td>\n",
       "      <td>891.000000</td>\n",
       "      <td>891.000000</td>\n",
       "      <td>891.000000</td>\n",
       "      <td>891.000000</td>\n",
       "    </tr>\n",
       "    <tr>\n",
       "      <th>mean</th>\n",
       "      <td>446.000000</td>\n",
       "      <td>0.383838</td>\n",
       "      <td>2.308642</td>\n",
       "      <td>29.361582</td>\n",
       "      <td>0.523008</td>\n",
       "      <td>0.381594</td>\n",
       "      <td>32.204208</td>\n",
       "      <td>1.538721</td>\n",
       "    </tr>\n",
       "    <tr>\n",
       "      <th>std</th>\n",
       "      <td>257.353842</td>\n",
       "      <td>0.486592</td>\n",
       "      <td>0.836071</td>\n",
       "      <td>13.019697</td>\n",
       "      <td>1.102743</td>\n",
       "      <td>0.806057</td>\n",
       "      <td>49.693429</td>\n",
       "      <td>0.794231</td>\n",
       "    </tr>\n",
       "    <tr>\n",
       "      <th>min</th>\n",
       "      <td>1.000000</td>\n",
       "      <td>0.000000</td>\n",
       "      <td>1.000000</td>\n",
       "      <td>0.420000</td>\n",
       "      <td>0.000000</td>\n",
       "      <td>0.000000</td>\n",
       "      <td>0.000000</td>\n",
       "      <td>0.000000</td>\n",
       "    </tr>\n",
       "    <tr>\n",
       "      <th>25%</th>\n",
       "      <td>223.500000</td>\n",
       "      <td>0.000000</td>\n",
       "      <td>2.000000</td>\n",
       "      <td>22.000000</td>\n",
       "      <td>0.000000</td>\n",
       "      <td>0.000000</td>\n",
       "      <td>7.910400</td>\n",
       "      <td>1.000000</td>\n",
       "    </tr>\n",
       "    <tr>\n",
       "      <th>50%</th>\n",
       "      <td>446.000000</td>\n",
       "      <td>0.000000</td>\n",
       "      <td>3.000000</td>\n",
       "      <td>28.000000</td>\n",
       "      <td>0.000000</td>\n",
       "      <td>0.000000</td>\n",
       "      <td>14.454200</td>\n",
       "      <td>2.000000</td>\n",
       "    </tr>\n",
       "    <tr>\n",
       "      <th>75%</th>\n",
       "      <td>668.500000</td>\n",
       "      <td>1.000000</td>\n",
       "      <td>3.000000</td>\n",
       "      <td>35.000000</td>\n",
       "      <td>1.000000</td>\n",
       "      <td>0.000000</td>\n",
       "      <td>31.000000</td>\n",
       "      <td>2.000000</td>\n",
       "    </tr>\n",
       "    <tr>\n",
       "      <th>max</th>\n",
       "      <td>891.000000</td>\n",
       "      <td>1.000000</td>\n",
       "      <td>3.000000</td>\n",
       "      <td>80.000000</td>\n",
       "      <td>8.000000</td>\n",
       "      <td>6.000000</td>\n",
       "      <td>512.329200</td>\n",
       "      <td>3.000000</td>\n",
       "    </tr>\n",
       "  </tbody>\n",
       "</table>\n",
       "</div>"
      ],
      "text/plain": [
       "       PassengerId    Survived      Pclass         Age       SibSp  \\\n",
       "count   891.000000  891.000000  891.000000  891.000000  891.000000   \n",
       "mean    446.000000    0.383838    2.308642   29.361582    0.523008   \n",
       "std     257.353842    0.486592    0.836071   13.019697    1.102743   \n",
       "min       1.000000    0.000000    1.000000    0.420000    0.000000   \n",
       "25%     223.500000    0.000000    2.000000   22.000000    0.000000   \n",
       "50%     446.000000    0.000000    3.000000   28.000000    0.000000   \n",
       "75%     668.500000    1.000000    3.000000   35.000000    1.000000   \n",
       "max     891.000000    1.000000    3.000000   80.000000    8.000000   \n",
       "\n",
       "            Parch        Fare    Embarked  \n",
       "count  891.000000  891.000000  891.000000  \n",
       "mean     0.381594   32.204208    1.538721  \n",
       "std      0.806057   49.693429    0.794231  \n",
       "min      0.000000    0.000000    0.000000  \n",
       "25%      0.000000    7.910400    1.000000  \n",
       "50%      0.000000   14.454200    2.000000  \n",
       "75%      0.000000   31.000000    2.000000  \n",
       "max      6.000000  512.329200    3.000000  "
      ]
     },
     "execution_count": 321,
     "metadata": {},
     "output_type": "execute_result"
    }
   ],
   "source": [
    "df.describe()"
   ]
  },
  {
   "cell_type": "markdown",
   "id": "64f6c9be-037c-4aea-b744-a1a8a84bc4f7",
   "metadata": {},
   "source": [
    "From the above discription we can observe the following things: The counts of all the columns are same which means there is no missing values in the dataset. The median(50%) value is less than the mean in some of the columns which means the data is little skewed to the right in these columns. In some of the columns it is shown that there is the huge diff between the 75% and max hence there are outliers present in the data."
   ]
  },
  {
   "cell_type": "code",
   "execution_count": 322,
   "id": "66c3147d-e935-4ce0-866b-87d6fe3b81c2",
   "metadata": {},
   "outputs": [
    {
     "name": "stdout",
     "output_type": "stream",
     "text": [
      "Survived\n",
      "0    549\n",
      "1    342\n",
      "Name: count, dtype: int64\n"
     ]
    },
    {
     "data": {
      "image/png": "[encoded data removed]",
      "text/plain": [
       "<Figure size 640x480 with 1 Axes>"
      ]
     },
     "metadata": {},
     "output_type": "display_data"
    }
   ],
   "source": [
    "ax = sns.countplot(x='Survived', data=df)\n",
    "print(df['Survived'].value_counts())"
   ]
  },
  {
   "cell_type": "markdown",
   "id": "0b6a7e0e-1150-49ad-ba18-68384d7ac83e",
   "metadata": {},
   "source": [
    "This graph shows that 549 people died and only 342 people were survived."
   ]
  },
  {
   "cell_type": "code",
   "execution_count": 323,
   "id": "f7221d23-7fb7-4d5c-b4be-90734e539c97",
   "metadata": {},
   "outputs": [
    {
     "name": "stdout",
     "output_type": "stream",
     "text": [
      "Sex\n",
      "male      577\n",
      "female    314\n",
      "Name: count, dtype: int64\n"
     ]
    },
    {
     "data": {
      "image/png": "[encoded data removed]",
      "text/plain": [
       "<Figure size 640x480 with 1 Axes>"
      ]
     },
     "metadata": {},
     "output_type": "display_data"
    }
   ],
   "source": [
    "#Visualising the gender\n",
    "ax = sns.countplot(x='Sex', data=df)\n",
    "print(df['Sex'].value_counts())"
   ]
  },
  {
   "cell_type": "markdown",
   "id": "0c3e8039-eef7-4792-903e-4c606fc32326",
   "metadata": {},
   "source": [
    "This shows that No. of male pessengers were more than female passengers."
   ]
  },
  {
   "cell_type": "code",
   "execution_count": 324,
   "id": "8980335b-f310-4b36-9fcb-edd35d8ffed8",
   "metadata": {},
   "outputs": [
    {
     "name": "stdout",
     "output_type": "stream",
     "text": [
      "Pclass\n",
      "3    491\n",
      "1    216\n",
      "2    184\n",
      "Name: count, dtype: int64\n"
     ]
    },
    {
     "data": {
      "image/png": "[encoded data removed]",
      "text/plain": [
       "<Figure size 640x480 with 1 Axes>"
      ]
     },
     "metadata": {},
     "output_type": "display_data"
    }
   ],
   "source": [
    "#Visualising the passenger class\n",
    "ax = sns.countplot(x='Pclass', data=df)\n",
    "print(df['Pclass'].value_counts())"
   ]
  },
  {
   "cell_type": "code",
   "execution_count": 325,
   "id": "b18dfc83-c263-42e9-b186-460b73c20893",
   "metadata": {},
   "outputs": [
    {
     "data": {
      "image/png": "[encoded data removed]",
      "text/plain": [
       "<Figure size 1000x600 with 4 Axes>"
      ]
     },
     "metadata": {},
     "output_type": "display_data"
    }
   ],
   "source": [
    "#checking the data distribution in different columns\n",
    "plt.figure(figsize = (10,6), facecolor = 'white')\n",
    "plotnumber = 1\n",
    "for col in num_col:\n",
    "    if plotnumber<=4:\n",
    "        ax = plt.subplot(2,2, plotnumber)\n",
    "        sns.distplot(df[col], color = 'b')\n",
    "        plt.xlabel(col, fontsize = 12)\n",
    "        plt.yticks(rotation = 0, fontsize= 10)\n",
    "    plotnumber +=1\n",
    "plt.tight_layout()"
   ]
  },
  {
   "cell_type": "markdown",
   "id": "ba188648-d943-4947-a430-684ccf487d05",
   "metadata": {},
   "source": [
    "From this plot we can see that the data looks normal, less to no skewness present."
   ]
  },
  {
   "cell_type": "code",
   "execution_count": 326,
   "id": "703c79ef-665d-4993-97d4-1c7fc498afc9",
   "metadata": {},
   "outputs": [
    {
     "data": {
      "text/plain": [
       "PassengerId    0.000000\n",
       "Survived       0.478523\n",
       "Pclass        -0.630548\n",
       "Age            0.510245\n",
       "SibSp          3.695352\n",
       "Parch          2.749117\n",
       "Fare           4.787317\n",
       "Embarked      -1.246689\n",
       "dtype: float64"
      ]
     },
     "execution_count": 326,
     "metadata": {},
     "output_type": "execute_result"
    }
   ],
   "source": [
    "df[num_col].skew()  \n",
    "\n",
    "\n"
   ]
  },
  {
   "cell_type": "code",
   "execution_count": 327,
   "id": "2ea08204-e906-4381-af2a-276787d4724b",
   "metadata": {},
   "outputs": [],
   "source": [
    "df['SibSp']= np.cbrt(df['SibSp'])"
   ]
  },
  {
   "cell_type": "code",
   "execution_count": 328,
   "id": "1b9a480b-8a82-4f6c-a444-f7159d203505",
   "metadata": {},
   "outputs": [],
   "source": [
    "df['Parch']= np.cbrt(df['Parch'])"
   ]
  },
  {
   "cell_type": "code",
   "execution_count": 329,
   "id": "002d31e0-284c-4016-a27d-2151ff64df19",
   "metadata": {},
   "outputs": [],
   "source": [
    "df['Fare']= np.cbrt(df['Fare'])"
   ]
  },
  {
   "cell_type": "code",
   "execution_count": 330,
   "id": "4a47c720-f69c-4ef0-90d8-a90bef9b6a3b",
   "metadata": {},
   "outputs": [
    {
     "data": {
      "text/plain": [
       "PassengerId    0.000000\n",
       "Survived       0.478523\n",
       "Pclass        -0.630548\n",
       "Age            0.510245\n",
       "SibSp          1.033059\n",
       "Parch          1.348334\n",
       "Fare           1.230382\n",
       "Embarked      -1.246689\n",
       "dtype: float64"
      ]
     },
     "execution_count": 330,
     "metadata": {},
     "output_type": "execute_result"
    }
   ],
   "source": [
    "df[num_col].skew()"
   ]
  },
  {
   "cell_type": "markdown",
   "id": "deb4c1dd-87fc-4591-9e81-61dda384b08b",
   "metadata": {},
   "source": [
    "So here we have corrected the skewness of three columns 'Parch',\"SibSp\",'fare'."
   ]
  },
  {
   "cell_type": "code",
   "execution_count": 331,
   "id": "f0cc25bc-ec22-40a8-a80d-aa330bab8ecd",
   "metadata": {},
   "outputs": [
    {
     "data": {
      "image/png": "[encoded data removed]",
      "text/plain": [
       "<Figure size 2000x2500 with 8 Axes>"
      ]
     },
     "metadata": {},
     "output_type": "display_data"
    }
   ],
   "source": [
    "plt.figure(figsize = (20,25), facecolor = 'white')\n",
    "plotnumber = 1\n",
    "for column in num_col:\n",
    "    if plotnumber<=18:\n",
    "        ax = plt.subplot(6,4, plotnumber)\n",
    "        sns.boxplot(df[column], palette = 'Set2_r')\n",
    "        plt.xlabel(column, fontsize = 12)\n",
    "        plt.yticks(rotation = 0, fontsize= 10)\n",
    "    plotnumber +=1\n",
    "plt.tight_layout()"
   ]
  },
  {
   "cell_type": "markdown",
   "id": "8e3e7646-8576-4990-85d4-b777ebac5000",
   "metadata": {},
   "source": [
    "So we have found outlier in some of the columns. So we will remove the outliers using the zscore and IQR techniques before building the model and selecting the best one."
   ]
  },
  {
   "cell_type": "code",
   "execution_count": 332,
   "id": "b26e6b0f-f783-4c59-8015-e993f742058a",
   "metadata": {},
   "outputs": [
    {
     "data": {
      "text/html": [
       "<div>\n",
       "<style scoped>\n",
       "    .dataframe tbody tr th:only-of-type {\n",
       "        vertical-align: middle;\n",
       "    }\n",
       "\n",
       "    .dataframe tbody tr th {\n",
       "        vertical-align: top;\n",
       "    }\n",
       "\n",
       "    .dataframe thead th {\n",
       "        text-align: right;\n",
       "    }\n",
       "</style>\n",
       "<table border=\"1\" class=\"dataframe\">\n",
       "  <thead>\n",
       "    <tr style=\"text-align: right;\">\n",
       "      <th></th>\n",
       "      <th>PassengerId</th>\n",
       "      <th>Survived</th>\n",
       "      <th>Pclass</th>\n",
       "      <th>Age</th>\n",
       "      <th>SibSp</th>\n",
       "      <th>Parch</th>\n",
       "      <th>Fare</th>\n",
       "    </tr>\n",
       "  </thead>\n",
       "  <tbody>\n",
       "    <tr>\n",
       "      <th>0</th>\n",
       "      <td>1.730108</td>\n",
       "      <td>0.789272</td>\n",
       "      <td>0.827377</td>\n",
       "      <td>0.565736</td>\n",
       "      <td>1.187523</td>\n",
       "      <td>0.551654</td>\n",
       "      <td>0.774708</td>\n",
       "    </tr>\n",
       "    <tr>\n",
       "      <th>1</th>\n",
       "      <td>1.726220</td>\n",
       "      <td>1.266990</td>\n",
       "      <td>1.566107</td>\n",
       "      <td>0.663861</td>\n",
       "      <td>1.187523</td>\n",
       "      <td>0.551654</td>\n",
       "      <td>1.287903</td>\n",
       "    </tr>\n",
       "    <tr>\n",
       "      <th>2</th>\n",
       "      <td>1.722332</td>\n",
       "      <td>1.266990</td>\n",
       "      <td>0.827377</td>\n",
       "      <td>0.258337</td>\n",
       "      <td>0.660582</td>\n",
       "      <td>0.551654</td>\n",
       "      <td>0.720325</td>\n",
       "    </tr>\n",
       "    <tr>\n",
       "      <th>3</th>\n",
       "      <td>1.718444</td>\n",
       "      <td>1.266990</td>\n",
       "      <td>1.566107</td>\n",
       "      <td>0.433312</td>\n",
       "      <td>1.187523</td>\n",
       "      <td>0.551654</td>\n",
       "      <td>0.926230</td>\n",
       "    </tr>\n",
       "    <tr>\n",
       "      <th>4</th>\n",
       "      <td>1.714556</td>\n",
       "      <td>0.789272</td>\n",
       "      <td>0.827377</td>\n",
       "      <td>0.433312</td>\n",
       "      <td>0.660582</td>\n",
       "      <td>0.551654</td>\n",
       "      <td>0.710596</td>\n",
       "    </tr>\n",
       "    <tr>\n",
       "      <th>...</th>\n",
       "      <td>...</td>\n",
       "      <td>...</td>\n",
       "      <td>...</td>\n",
       "      <td>...</td>\n",
       "      <td>...</td>\n",
       "      <td>...</td>\n",
       "      <td>...</td>\n",
       "    </tr>\n",
       "    <tr>\n",
       "      <th>886</th>\n",
       "      <td>1.714556</td>\n",
       "      <td>0.789272</td>\n",
       "      <td>0.369365</td>\n",
       "      <td>0.181487</td>\n",
       "      <td>0.660582</td>\n",
       "      <td>0.551654</td>\n",
       "      <td>0.386703</td>\n",
       "    </tr>\n",
       "    <tr>\n",
       "      <th>887</th>\n",
       "      <td>1.718444</td>\n",
       "      <td>1.266990</td>\n",
       "      <td>1.566107</td>\n",
       "      <td>0.796286</td>\n",
       "      <td>0.660582</td>\n",
       "      <td>0.551654</td>\n",
       "      <td>0.318502</td>\n",
       "    </tr>\n",
       "    <tr>\n",
       "      <th>888</th>\n",
       "      <td>1.722332</td>\n",
       "      <td>0.789272</td>\n",
       "      <td>0.827377</td>\n",
       "      <td>0.104637</td>\n",
       "      <td>1.187523</td>\n",
       "      <td>1.999751</td>\n",
       "      <td>0.089990</td>\n",
       "    </tr>\n",
       "    <tr>\n",
       "      <th>889</th>\n",
       "      <td>1.726220</td>\n",
       "      <td>1.266990</td>\n",
       "      <td>1.566107</td>\n",
       "      <td>0.258337</td>\n",
       "      <td>0.660582</td>\n",
       "      <td>0.551654</td>\n",
       "      <td>0.318502</td>\n",
       "    </tr>\n",
       "    <tr>\n",
       "      <th>890</th>\n",
       "      <td>1.730108</td>\n",
       "      <td>0.789272</td>\n",
       "      <td>0.827377</td>\n",
       "      <td>0.202762</td>\n",
       "      <td>0.660582</td>\n",
       "      <td>0.551654</td>\n",
       "      <td>0.734118</td>\n",
       "    </tr>\n",
       "  </tbody>\n",
       "</table>\n",
       "<p>891 rows × 7 columns</p>\n",
       "</div>"
      ],
      "text/plain": [
       "     PassengerId  Survived    Pclass       Age     SibSp     Parch      Fare\n",
       "0       1.730108  0.789272  0.827377  0.565736  1.187523  0.551654  0.774708\n",
       "1       1.726220  1.266990  1.566107  0.663861  1.187523  0.551654  1.287903\n",
       "2       1.722332  1.266990  0.827377  0.258337  0.660582  0.551654  0.720325\n",
       "3       1.718444  1.266990  1.566107  0.433312  1.187523  0.551654  0.926230\n",
       "4       1.714556  0.789272  0.827377  0.433312  0.660582  0.551654  0.710596\n",
       "..           ...       ...       ...       ...       ...       ...       ...\n",
       "886     1.714556  0.789272  0.369365  0.181487  0.660582  0.551654  0.386703\n",
       "887     1.718444  1.266990  1.566107  0.796286  0.660582  0.551654  0.318502\n",
       "888     1.722332  0.789272  0.827377  0.104637  1.187523  1.999751  0.089990\n",
       "889     1.726220  1.266990  1.566107  0.258337  0.660582  0.551654  0.318502\n",
       "890     1.730108  0.789272  0.827377  0.202762  0.660582  0.551654  0.734118\n",
       "\n",
       "[891 rows x 7 columns]"
      ]
     },
     "execution_count": 332,
     "metadata": {},
     "output_type": "execute_result"
    }
   ],
   "source": [
    "from scipy.stats import zscore\n",
    "out_features = df[['PassengerId', 'Survived', 'Pclass',  'Age', 'SibSp',\n",
    "       'Parch', 'Fare' ]]\n",
    "z = np.abs(zscore(out_features))\n",
    "z"
   ]
  },
  {
   "cell_type": "code",
   "execution_count": 333,
   "id": "f7643aca-637b-49c1-ad80-dd4be41a5985",
   "metadata": {},
   "outputs": [
    {
     "data": {
      "text/plain": [
       "(array([ 27,  88,  96, 116, 118, 159, 180, 201, 258, 299, 311, 324, 341,\n",
       "        380, 438, 493, 527, 557, 630, 672, 678, 679, 700, 716, 737, 742,\n",
       "        745, 792, 846, 851, 863], dtype=int64),\n",
       " array([6, 6, 3, 3, 6, 4, 4, 4, 6, 6, 6, 4, 6, 6, 6, 3, 6, 6, 3, 3, 5, 6,\n",
       "        6, 6, 6, 6, 3, 4, 4, 3, 4], dtype=int64))"
      ]
     },
     "execution_count": 333,
     "metadata": {},
     "output_type": "execute_result"
    }
   ],
   "source": [
    "#putting thrushold = 3 then 99.7% of the data comes under the bell-shaped curve\n",
    "np.where(z>3)"
   ]
  },
  {
   "cell_type": "code",
   "execution_count": 334,
   "id": "c3b6f3ec-a8e9-4d8a-88ee-1b7024a86d94",
   "metadata": {},
   "outputs": [
    {
     "name": "stdout",
     "output_type": "stream",
     "text": [
      "New Data Frame: (860, 11)\n",
      "Old Data Frame: (891, 11)\n"
     ]
    }
   ],
   "source": [
    "#Now we will remove the data above zscore and creating new DF.\n",
    "df1= df[(z<3).all(axis=1)]\n",
    "print(\"New Data Frame:\",df1.shape)\n",
    "print(\"Old Data Frame:\",df.shape)"
   ]
  },
  {
   "cell_type": "code",
   "execution_count": 335,
   "id": "b2b29e24-69fc-47fb-a559-98881dbf63a8",
   "metadata": {},
   "outputs": [
    {
     "name": "stdout",
     "output_type": "stream",
     "text": [
      "Data loss Perc% 3.479236812570146\n"
     ]
    }
   ],
   "source": [
    "print(\"Data loss Perc%\", ((df.shape[0]-df1.shape[0])/df.shape[0])*100)"
   ]
  },
  {
   "cell_type": "code",
   "execution_count": 336,
   "id": "286bd581-5f68-41c4-9146-e932871a7ff1",
   "metadata": {},
   "outputs": [
    {
     "data": {
      "text/html": [
       "<div>\n",
       "<style scoped>\n",
       "    .dataframe tbody tr th:only-of-type {\n",
       "        vertical-align: middle;\n",
       "    }\n",
       "\n",
       "    .dataframe tbody tr th {\n",
       "        vertical-align: top;\n",
       "    }\n",
       "\n",
       "    .dataframe thead th {\n",
       "        text-align: right;\n",
       "    }\n",
       "</style>\n",
       "<table border=\"1\" class=\"dataframe\">\n",
       "  <thead>\n",
       "    <tr style=\"text-align: right;\">\n",
       "      <th></th>\n",
       "      <th>PassengerId</th>\n",
       "      <th>Survived</th>\n",
       "      <th>Pclass</th>\n",
       "      <th>Name</th>\n",
       "      <th>Sex</th>\n",
       "      <th>Age</th>\n",
       "      <th>SibSp</th>\n",
       "      <th>Parch</th>\n",
       "      <th>Ticket</th>\n",
       "      <th>Fare</th>\n",
       "      <th>Embarked</th>\n",
       "    </tr>\n",
       "  </thead>\n",
       "  <tbody>\n",
       "    <tr>\n",
       "      <th>0</th>\n",
       "      <td>1.0</td>\n",
       "      <td>0</td>\n",
       "      <td>3</td>\n",
       "      <td>Braund, Mr. Owen Harris</td>\n",
       "      <td>male</td>\n",
       "      <td>22.0</td>\n",
       "      <td>1.0</td>\n",
       "      <td>0.000000</td>\n",
       "      <td>A/5 21171</td>\n",
       "      <td>1.935438</td>\n",
       "      <td>2.0</td>\n",
       "    </tr>\n",
       "    <tr>\n",
       "      <th>1</th>\n",
       "      <td>2.0</td>\n",
       "      <td>1</td>\n",
       "      <td>1</td>\n",
       "      <td>Cumings, Mrs. John Bradley (Florence Briggs Th...</td>\n",
       "      <td>female</td>\n",
       "      <td>38.0</td>\n",
       "      <td>1.0</td>\n",
       "      <td>0.000000</td>\n",
       "      <td>PC 17599</td>\n",
       "      <td>4.146318</td>\n",
       "      <td>0.0</td>\n",
       "    </tr>\n",
       "    <tr>\n",
       "      <th>2</th>\n",
       "      <td>3.0</td>\n",
       "      <td>1</td>\n",
       "      <td>3</td>\n",
       "      <td>Heikkinen, Miss. Laina</td>\n",
       "      <td>female</td>\n",
       "      <td>26.0</td>\n",
       "      <td>0.0</td>\n",
       "      <td>0.000000</td>\n",
       "      <td>STON/O2. 3101282</td>\n",
       "      <td>1.993730</td>\n",
       "      <td>2.0</td>\n",
       "    </tr>\n",
       "    <tr>\n",
       "      <th>3</th>\n",
       "      <td>4.0</td>\n",
       "      <td>1</td>\n",
       "      <td>1</td>\n",
       "      <td>Futrelle, Mrs. Jacques Heath (Lily May Peel)</td>\n",
       "      <td>female</td>\n",
       "      <td>35.0</td>\n",
       "      <td>1.0</td>\n",
       "      <td>0.000000</td>\n",
       "      <td>113803</td>\n",
       "      <td>3.758647</td>\n",
       "      <td>2.0</td>\n",
       "    </tr>\n",
       "    <tr>\n",
       "      <th>4</th>\n",
       "      <td>5.0</td>\n",
       "      <td>0</td>\n",
       "      <td>3</td>\n",
       "      <td>Allen, Mr. William Henry</td>\n",
       "      <td>male</td>\n",
       "      <td>35.0</td>\n",
       "      <td>0.0</td>\n",
       "      <td>0.000000</td>\n",
       "      <td>373450</td>\n",
       "      <td>2.004158</td>\n",
       "      <td>2.0</td>\n",
       "    </tr>\n",
       "    <tr>\n",
       "      <th>...</th>\n",
       "      <td>...</td>\n",
       "      <td>...</td>\n",
       "      <td>...</td>\n",
       "      <td>...</td>\n",
       "      <td>...</td>\n",
       "      <td>...</td>\n",
       "      <td>...</td>\n",
       "      <td>...</td>\n",
       "      <td>...</td>\n",
       "      <td>...</td>\n",
       "      <td>...</td>\n",
       "    </tr>\n",
       "    <tr>\n",
       "      <th>886</th>\n",
       "      <td>887.0</td>\n",
       "      <td>0</td>\n",
       "      <td>2</td>\n",
       "      <td>Montvila, Rev. Juozas</td>\n",
       "      <td>male</td>\n",
       "      <td>27.0</td>\n",
       "      <td>0.0</td>\n",
       "      <td>0.000000</td>\n",
       "      <td>211536</td>\n",
       "      <td>2.351335</td>\n",
       "      <td>2.0</td>\n",
       "    </tr>\n",
       "    <tr>\n",
       "      <th>887</th>\n",
       "      <td>888.0</td>\n",
       "      <td>1</td>\n",
       "      <td>1</td>\n",
       "      <td>Graham, Miss. Margaret Edith</td>\n",
       "      <td>female</td>\n",
       "      <td>19.0</td>\n",
       "      <td>0.0</td>\n",
       "      <td>0.000000</td>\n",
       "      <td>112053</td>\n",
       "      <td>3.107233</td>\n",
       "      <td>2.0</td>\n",
       "    </tr>\n",
       "    <tr>\n",
       "      <th>888</th>\n",
       "      <td>889.0</td>\n",
       "      <td>0</td>\n",
       "      <td>3</td>\n",
       "      <td>Johnston, Miss. Catherine Helen \"Carrie\"</td>\n",
       "      <td>female</td>\n",
       "      <td>28.0</td>\n",
       "      <td>1.0</td>\n",
       "      <td>1.259921</td>\n",
       "      <td>W./C. 6607</td>\n",
       "      <td>2.862294</td>\n",
       "      <td>2.0</td>\n",
       "    </tr>\n",
       "    <tr>\n",
       "      <th>889</th>\n",
       "      <td>890.0</td>\n",
       "      <td>1</td>\n",
       "      <td>1</td>\n",
       "      <td>Behr, Mr. Karl Howell</td>\n",
       "      <td>male</td>\n",
       "      <td>26.0</td>\n",
       "      <td>0.0</td>\n",
       "      <td>0.000000</td>\n",
       "      <td>111369</td>\n",
       "      <td>3.107233</td>\n",
       "      <td>0.0</td>\n",
       "    </tr>\n",
       "    <tr>\n",
       "      <th>890</th>\n",
       "      <td>891.0</td>\n",
       "      <td>0</td>\n",
       "      <td>3</td>\n",
       "      <td>Dooley, Mr. Patrick</td>\n",
       "      <td>male</td>\n",
       "      <td>32.0</td>\n",
       "      <td>0.0</td>\n",
       "      <td>0.000000</td>\n",
       "      <td>370376</td>\n",
       "      <td>1.978946</td>\n",
       "      <td>1.0</td>\n",
       "    </tr>\n",
       "  </tbody>\n",
       "</table>\n",
       "<p>860 rows × 11 columns</p>\n",
       "</div>"
      ],
      "text/plain": [
       "     PassengerId  Survived  Pclass  \\\n",
       "0            1.0         0       3   \n",
       "1            2.0         1       1   \n",
       "2            3.0         1       3   \n",
       "3            4.0         1       1   \n",
       "4            5.0         0       3   \n",
       "..           ...       ...     ...   \n",
       "886        887.0         0       2   \n",
       "887        888.0         1       1   \n",
       "888        889.0         0       3   \n",
       "889        890.0         1       1   \n",
       "890        891.0         0       3   \n",
       "\n",
       "                                                  Name     Sex   Age  SibSp  \\\n",
       "0                              Braund, Mr. Owen Harris    male  22.0    1.0   \n",
       "1    Cumings, Mrs. John Bradley (Florence Briggs Th...  female  38.0    1.0   \n",
       "2                               Heikkinen, Miss. Laina  female  26.0    0.0   \n",
       "3         Futrelle, Mrs. Jacques Heath (Lily May Peel)  female  35.0    1.0   \n",
       "4                             Allen, Mr. William Henry    male  35.0    0.0   \n",
       "..                                                 ...     ...   ...    ...   \n",
       "886                              Montvila, Rev. Juozas    male  27.0    0.0   \n",
       "887                       Graham, Miss. Margaret Edith  female  19.0    0.0   \n",
       "888           Johnston, Miss. Catherine Helen \"Carrie\"  female  28.0    1.0   \n",
       "889                              Behr, Mr. Karl Howell    male  26.0    0.0   \n",
       "890                                Dooley, Mr. Patrick    male  32.0    0.0   \n",
       "\n",
       "        Parch            Ticket      Fare  Embarked  \n",
       "0    0.000000         A/5 21171  1.935438       2.0  \n",
       "1    0.000000          PC 17599  4.146318       0.0  \n",
       "2    0.000000  STON/O2. 3101282  1.993730       2.0  \n",
       "3    0.000000            113803  3.758647       2.0  \n",
       "4    0.000000            373450  2.004158       2.0  \n",
       "..        ...               ...       ...       ...  \n",
       "886  0.000000            211536  2.351335       2.0  \n",
       "887  0.000000            112053  3.107233       2.0  \n",
       "888  1.259921        W./C. 6607  2.862294       2.0  \n",
       "889  0.000000            111369  3.107233       0.0  \n",
       "890  0.000000            370376  1.978946       1.0  \n",
       "\n",
       "[860 rows x 11 columns]"
      ]
     },
     "execution_count": 336,
     "metadata": {},
     "output_type": "execute_result"
    }
   ],
   "source": [
    "df1"
   ]
  },
  {
   "cell_type": "code",
   "execution_count": 337,
   "id": "15395bc2-7cb6-4bf4-b9b2-d78d50a84ba9",
   "metadata": {},
   "outputs": [
    {
     "data": {
      "image/png": "[encoded data removed]",
      "text/plain": [
       "<Figure size 2000x2500 with 8 Axes>"
      ]
     },
     "metadata": {},
     "output_type": "display_data"
    }
   ],
   "source": [
    "plt.figure(figsize=(20,25), facecolor=\"green\")\n",
    "plotnumber = 1\n",
    "for column in num_col:\n",
    "    if plotnumber<=18:\n",
    "        ax = plt.subplot(6,4,plotnumber)\n",
    "        sns.distplot(df1[column], color ='b')\n",
    "        plt.xlabel(column, fontsize= 20)\n",
    "    plotnumber+=1\n",
    "plt.show()"
   ]
  },
  {
   "cell_type": "markdown",
   "id": "7808821e-742e-4f56-a091-ca1bd6dc4171",
   "metadata": {},
   "source": [
    "From the above distribution plots we can notice that the data almost looks normal in all the columns."
   ]
  },
  {
   "cell_type": "code",
   "execution_count": 338,
   "id": "5f513840-f17d-4d15-851e-e5e72a334118",
   "metadata": {},
   "outputs": [
    {
     "name": "stdout",
     "output_type": "stream",
     "text": [
      "Catagorical columns: ['Name', 'Sex', 'Ticket']\n",
      "\n",
      "\n",
      "Numerical columns: ['PassengerId', 'Survived', 'Pclass', 'Age', 'SibSp', 'Parch', 'Fare', 'Embarked']\n",
      "\n",
      "\n"
     ]
    }
   ],
   "source": [
    "cat_col=[]\n",
    "for i in df1.dtypes.index:\n",
    "    if df1.dtypes[i]== 'object':\n",
    "        cat_col.append(i)\n",
    "print(\"Catagorical columns:\", cat_col)\n",
    "print('\\n')\n",
    "\n",
    "#checking for numercial columns \n",
    "num_col=[]\n",
    "for i in df1.dtypes.index:\n",
    "    if df1.dtypes[i]!='object':\n",
    "        num_col.append(i)\n",
    "print(\"Numerical columns:\", num_col)\n",
    "print('\\n')"
   ]
  },
  {
   "cell_type": "code",
   "execution_count": 339,
   "id": "e709732d-c50a-41ae-9032-f0b90916d9e2",
   "metadata": {},
   "outputs": [
    {
     "data": {
      "text/html": [
       "<div>\n",
       "<style scoped>\n",
       "    .dataframe tbody tr th:only-of-type {\n",
       "        vertical-align: middle;\n",
       "    }\n",
       "\n",
       "    .dataframe tbody tr th {\n",
       "        vertical-align: top;\n",
       "    }\n",
       "\n",
       "    .dataframe thead th {\n",
       "        text-align: right;\n",
       "    }\n",
       "</style>\n",
       "<table border=\"1\" class=\"dataframe\">\n",
       "  <thead>\n",
       "    <tr style=\"text-align: right;\">\n",
       "      <th></th>\n",
       "      <th>PassengerId</th>\n",
       "      <th>Survived</th>\n",
       "      <th>Pclass</th>\n",
       "      <th>Age</th>\n",
       "      <th>SibSp</th>\n",
       "      <th>Parch</th>\n",
       "      <th>Fare</th>\n",
       "      <th>Embarked</th>\n",
       "    </tr>\n",
       "  </thead>\n",
       "  <tbody>\n",
       "    <tr>\n",
       "      <th>PassengerId</th>\n",
       "      <td>1.000000</td>\n",
       "      <td>-0.007483</td>\n",
       "      <td>-0.038791</td>\n",
       "      <td>0.025594</td>\n",
       "      <td>-0.066055</td>\n",
       "      <td>0.004778</td>\n",
       "      <td>-0.004635</td>\n",
       "      <td>0.013361</td>\n",
       "    </tr>\n",
       "    <tr>\n",
       "      <th>Survived</th>\n",
       "      <td>-0.007483</td>\n",
       "      <td>1.000000</td>\n",
       "      <td>-0.332248</td>\n",
       "      <td>-0.057986</td>\n",
       "      <td>0.091106</td>\n",
       "      <td>0.148945</td>\n",
       "      <td>0.339835</td>\n",
       "      <td>-0.148673</td>\n",
       "    </tr>\n",
       "    <tr>\n",
       "      <th>Pclass</th>\n",
       "      <td>-0.038791</td>\n",
       "      <td>-0.332248</td>\n",
       "      <td>1.000000</td>\n",
       "      <td>-0.345374</td>\n",
       "      <td>-0.037342</td>\n",
       "      <td>-0.006285</td>\n",
       "      <td>-0.668340</td>\n",
       "      <td>0.123241</td>\n",
       "    </tr>\n",
       "    <tr>\n",
       "      <th>Age</th>\n",
       "      <td>0.025594</td>\n",
       "      <td>-0.057986</td>\n",
       "      <td>-0.345374</td>\n",
       "      <td>1.000000</td>\n",
       "      <td>-0.196348</td>\n",
       "      <td>-0.265584</td>\n",
       "      <td>0.117723</td>\n",
       "      <td>-0.003563</td>\n",
       "    </tr>\n",
       "    <tr>\n",
       "      <th>SibSp</th>\n",
       "      <td>-0.066055</td>\n",
       "      <td>0.091106</td>\n",
       "      <td>-0.037342</td>\n",
       "      <td>-0.196348</td>\n",
       "      <td>1.000000</td>\n",
       "      <td>0.426382</td>\n",
       "      <td>0.362688</td>\n",
       "      <td>-0.011703</td>\n",
       "    </tr>\n",
       "    <tr>\n",
       "      <th>Parch</th>\n",
       "      <td>0.004778</td>\n",
       "      <td>0.148945</td>\n",
       "      <td>-0.006285</td>\n",
       "      <td>-0.265584</td>\n",
       "      <td>0.426382</td>\n",
       "      <td>1.000000</td>\n",
       "      <td>0.320832</td>\n",
       "      <td>0.006899</td>\n",
       "    </tr>\n",
       "    <tr>\n",
       "      <th>Fare</th>\n",
       "      <td>-0.004635</td>\n",
       "      <td>0.339835</td>\n",
       "      <td>-0.668340</td>\n",
       "      <td>0.117723</td>\n",
       "      <td>0.362688</td>\n",
       "      <td>0.320832</td>\n",
       "      <td>1.000000</td>\n",
       "      <td>-0.169857</td>\n",
       "    </tr>\n",
       "    <tr>\n",
       "      <th>Embarked</th>\n",
       "      <td>0.013361</td>\n",
       "      <td>-0.148673</td>\n",
       "      <td>0.123241</td>\n",
       "      <td>-0.003563</td>\n",
       "      <td>-0.011703</td>\n",
       "      <td>0.006899</td>\n",
       "      <td>-0.169857</td>\n",
       "      <td>1.000000</td>\n",
       "    </tr>\n",
       "  </tbody>\n",
       "</table>\n",
       "</div>"
      ],
      "text/plain": [
       "             PassengerId  Survived    Pclass       Age     SibSp     Parch  \\\n",
       "PassengerId     1.000000 -0.007483 -0.038791  0.025594 -0.066055  0.004778   \n",
       "Survived       -0.007483  1.000000 -0.332248 -0.057986  0.091106  0.148945   \n",
       "Pclass         -0.038791 -0.332248  1.000000 -0.345374 -0.037342 -0.006285   \n",
       "Age             0.025594 -0.057986 -0.345374  1.000000 -0.196348 -0.265584   \n",
       "SibSp          -0.066055  0.091106 -0.037342 -0.196348  1.000000  0.426382   \n",
       "Parch           0.004778  0.148945 -0.006285 -0.265584  0.426382  1.000000   \n",
       "Fare           -0.004635  0.339835 -0.668340  0.117723  0.362688  0.320832   \n",
       "Embarked        0.013361 -0.148673  0.123241 -0.003563 -0.011703  0.006899   \n",
       "\n",
       "                 Fare  Embarked  \n",
       "PassengerId -0.004635  0.013361  \n",
       "Survived     0.339835 -0.148673  \n",
       "Pclass      -0.668340  0.123241  \n",
       "Age          0.117723 -0.003563  \n",
       "SibSp        0.362688 -0.011703  \n",
       "Parch        0.320832  0.006899  \n",
       "Fare         1.000000 -0.169857  \n",
       "Embarked    -0.169857  1.000000  "
      ]
     },
     "execution_count": 339,
     "metadata": {},
     "output_type": "execute_result"
    }
   ],
   "source": [
    "corr= df1[num_col].corr()\n",
    "corr"
   ]
  },
  {
   "cell_type": "code",
   "execution_count": 340,
   "id": "5edc55ee-99eb-44ab-be08-02c06d0474de",
   "metadata": {},
   "outputs": [
    {
     "data": {
      "image/png": "[encoded data removed]",
      "text/plain": [
       "<Figure size 2000x1500 with 2 Axes>"
      ]
     },
     "metadata": {},
     "output_type": "display_data"
    }
   ],
   "source": [
    "plt.figure(figsize = (20,15))\n",
    "sns.heatmap(corr,linewidths = 0.1, fmt = '.1g', linecolor = 'black', annot = True, cmap = 'Blues_r')\n",
    "plt.yticks(rotation = 0);\n",
    "plt.show()"
   ]
  },
  {
   "cell_type": "markdown",
   "id": "df2a993f-709a-435e-b96b-edff7e23c6d1",
   "metadata": {},
   "source": [
    "Note- 0= no relation, -0.3 to +0.3- less corr, greater than +0.5 moderate corr, greater than +0.7 high corr"
   ]
  },
  {
   "cell_type": "code",
   "execution_count": 341,
   "id": "cf4fc5ef-4a79-4cd7-8595-6562ede0411d",
   "metadata": {},
   "outputs": [],
   "source": [
    "from sklearn.preprocessing import StandardScaler\n",
    "\n",
    "# Assuming num_col is a list of numerical column names and df1 is your DataFrame\n",
    "num_col.remove('PassengerId')  # Remove 'PassengerId' from the list of numerical columns\n",
    "\n",
    "x = df1[num_col]  # Select only the remaining numerical columns for scaling\n",
    "y = df1['Survived']\n",
    "\n",
    "scaler = StandardScaler()\n",
    "x_scaled = pd.DataFrame(scaler.fit_transform(x), columns=x.columns)\n"
   ]
  },
  {
   "cell_type": "markdown",
   "id": "eca41296-bcbd-4308-a9a3-27b8e0c6ba4d",
   "metadata": {},
   "source": [
    "We have scaled the data using Standard Scalarization method to overcome the issue of biasness."
   ]
  },
  {
   "cell_type": "code",
   "execution_count": 342,
   "id": "38d9dec0-64ed-4268-b6be-fcedc9ed90eb",
   "metadata": {},
   "outputs": [
    {
     "data": {
      "text/html": [
       "<div>\n",
       "<style scoped>\n",
       "    .dataframe tbody tr th:only-of-type {\n",
       "        vertical-align: middle;\n",
       "    }\n",
       "\n",
       "    .dataframe tbody tr th {\n",
       "        vertical-align: top;\n",
       "    }\n",
       "\n",
       "    .dataframe thead th {\n",
       "        text-align: right;\n",
       "    }\n",
       "</style>\n",
       "<table border=\"1\" class=\"dataframe\">\n",
       "  <thead>\n",
       "    <tr style=\"text-align: right;\">\n",
       "      <th></th>\n",
       "      <th>VIF values</th>\n",
       "      <th>Features</th>\n",
       "    </tr>\n",
       "  </thead>\n",
       "  <tbody>\n",
       "    <tr>\n",
       "      <th>0</th>\n",
       "      <td>1.880479</td>\n",
       "      <td>Survived</td>\n",
       "    </tr>\n",
       "    <tr>\n",
       "      <th>1</th>\n",
       "      <td>4.829116</td>\n",
       "      <td>Pclass</td>\n",
       "    </tr>\n",
       "    <tr>\n",
       "      <th>2</th>\n",
       "      <td>6.528780</td>\n",
       "      <td>Age</td>\n",
       "    </tr>\n",
       "    <tr>\n",
       "      <th>3</th>\n",
       "      <td>1.952656</td>\n",
       "      <td>SibSp</td>\n",
       "    </tr>\n",
       "    <tr>\n",
       "      <th>4</th>\n",
       "      <td>1.771110</td>\n",
       "      <td>Parch</td>\n",
       "    </tr>\n",
       "    <tr>\n",
       "      <th>5</th>\n",
       "      <td>9.440297</td>\n",
       "      <td>Fare</td>\n",
       "    </tr>\n",
       "    <tr>\n",
       "      <th>6</th>\n",
       "      <td>4.746120</td>\n",
       "      <td>Embarked</td>\n",
       "    </tr>\n",
       "  </tbody>\n",
       "</table>\n",
       "</div>"
      ],
      "text/plain": [
       "   VIF values  Features\n",
       "0    1.880479  Survived\n",
       "1    4.829116    Pclass\n",
       "2    6.528780       Age\n",
       "3    1.952656     SibSp\n",
       "4    1.771110     Parch\n",
       "5    9.440297      Fare\n",
       "6    4.746120  Embarked"
      ]
     },
     "execution_count": 342,
     "metadata": {},
     "output_type": "execute_result"
    }
   ],
   "source": [
    "# finding variance inflation factor in each scaled column.\n",
    "from statsmodels.stats.outliers_influence import variance_inflation_factor\n",
    "vif = pd.DataFrame()\n",
    "vif['VIF values']=[variance_inflation_factor(x.values, i) for i in range(len(x.columns))]\n",
    "vif['Features']= x.columns\n",
    "\n",
    "vif"
   ]
  },
  {
   "cell_type": "markdown",
   "id": "194703a6-796b-4063-aea4-d08172c51259",
   "metadata": {},
   "source": [
    "Here the vif value shows that how much times it is corr to other vairables e.g. fixed acidity has vif 8.05 it means it is 8 times more corr with the other variables"
   ]
  },
  {
   "cell_type": "code",
   "execution_count": 343,
   "id": "763b67bf-968a-4733-95ce-f61bc1e8d9b4",
   "metadata": {},
   "outputs": [
    {
     "data": {
      "text/html": [
       "<div>\n",
       "<style scoped>\n",
       "    .dataframe tbody tr th:only-of-type {\n",
       "        vertical-align: middle;\n",
       "    }\n",
       "\n",
       "    .dataframe tbody tr th {\n",
       "        vertical-align: top;\n",
       "    }\n",
       "\n",
       "    .dataframe thead th {\n",
       "        text-align: right;\n",
       "    }\n",
       "</style>\n",
       "<table border=\"1\" class=\"dataframe\">\n",
       "  <thead>\n",
       "    <tr style=\"text-align: right;\">\n",
       "      <th></th>\n",
       "      <th>VIF values</th>\n",
       "      <th>Features</th>\n",
       "    </tr>\n",
       "  </thead>\n",
       "  <tbody>\n",
       "    <tr>\n",
       "      <th>0</th>\n",
       "      <td>1.880479</td>\n",
       "      <td>Survived</td>\n",
       "    </tr>\n",
       "    <tr>\n",
       "      <th>1</th>\n",
       "      <td>4.829116</td>\n",
       "      <td>Pclass</td>\n",
       "    </tr>\n",
       "    <tr>\n",
       "      <th>2</th>\n",
       "      <td>6.528780</td>\n",
       "      <td>Age</td>\n",
       "    </tr>\n",
       "    <tr>\n",
       "      <th>3</th>\n",
       "      <td>1.952656</td>\n",
       "      <td>SibSp</td>\n",
       "    </tr>\n",
       "    <tr>\n",
       "      <th>4</th>\n",
       "      <td>1.771110</td>\n",
       "      <td>Parch</td>\n",
       "    </tr>\n",
       "    <tr>\n",
       "      <th>5</th>\n",
       "      <td>9.440297</td>\n",
       "      <td>Fare</td>\n",
       "    </tr>\n",
       "    <tr>\n",
       "      <th>6</th>\n",
       "      <td>4.746120</td>\n",
       "      <td>Embarked</td>\n",
       "    </tr>\n",
       "  </tbody>\n",
       "</table>\n",
       "</div>"
      ],
      "text/plain": [
       "   VIF values  Features\n",
       "0    1.880479  Survived\n",
       "1    4.829116    Pclass\n",
       "2    6.528780       Age\n",
       "3    1.952656     SibSp\n",
       "4    1.771110     Parch\n",
       "5    9.440297      Fare\n",
       "6    4.746120  Embarked"
      ]
     },
     "execution_count": 343,
     "metadata": {},
     "output_type": "execute_result"
    }
   ],
   "source": [
    "vif = pd.DataFrame()\n",
    "vif['VIF values']=[variance_inflation_factor(x.values, i) for i in range(len(x.columns))]\n",
    "vif['Features']= x.columns\n",
    "\n",
    "vif"
   ]
  },
  {
   "cell_type": "markdown",
   "id": "c629bb9e-8bce-46e1-8b18-ff1f82950000",
   "metadata": {},
   "source": [
    "So we have solved multicolinearity issue. we can move ahead for model building."
   ]
  },
  {
   "cell_type": "code",
   "execution_count": 344,
   "id": "bd2f0eb7-b5d8-4e45-8480-62b94eff701d",
   "metadata": {},
   "outputs": [
    {
     "data": {
      "text/plain": [
       "Survived\n",
       "0    530\n",
       "1    330\n",
       "Name: count, dtype: int64"
      ]
     },
     "execution_count": 344,
     "metadata": {},
     "output_type": "execute_result"
    }
   ],
   "source": [
    "y.value_counts()"
   ]
  },
  {
   "cell_type": "markdown",
   "id": "ff491c86-b4b9-4a61-bda8-43c652869a66",
   "metadata": {},
   "source": [
    "\n",
    "Here we can see the data is not balanced, since it is a classification problem we will balance the data using oversampling method."
   ]
  },
  {
   "cell_type": "code",
   "execution_count": 345,
   "id": "e7c63c5a-ec01-44c1-9058-53af6f6d1c2f",
   "metadata": {},
   "outputs": [],
   "source": [
    "from imblearn.over_sampling import SMOTE\n",
    "SM = SMOTE()\n",
    "x1,y1 = SM.fit_resample(x,y)"
   ]
  },
  {
   "cell_type": "code",
   "execution_count": 346,
   "id": "fafbda6b-9ac3-466c-a145-94fa01bae372",
   "metadata": {},
   "outputs": [
    {
     "data": {
      "text/plain": [
       "Survived\n",
       "0    530\n",
       "1    330\n",
       "Name: count, dtype: int64"
      ]
     },
     "execution_count": 346,
     "metadata": {},
     "output_type": "execute_result"
    }
   ],
   "source": [
    "#checking the value counts of the target column\n",
    "y.value_counts()"
   ]
  },
  {
   "cell_type": "code",
   "execution_count": 347,
   "id": "bcd29ed1-ef5b-4b8e-a4ef-1fddc974d10f",
   "metadata": {},
   "outputs": [
    {
     "data": {
      "text/plain": [
       "Survived\n",
       "0    530\n",
       "1    530\n",
       "Name: count, dtype: int64"
      ]
     },
     "execution_count": 347,
     "metadata": {},
     "output_type": "execute_result"
    }
   ],
   "source": [
    "y1.value_counts()"
   ]
  },
  {
   "cell_type": "markdown",
   "id": "56f44253-65f1-4866-a260-ffe953fa57bc",
   "metadata": {},
   "source": [
    "There is not much of difference in the data so will go with the orignal data."
   ]
  },
  {
   "cell_type": "code",
   "execution_count": 348,
   "id": "4f1475c8-0af7-4b73-acaf-34885070b938",
   "metadata": {},
   "outputs": [
    {
     "name": "stdout",
     "output_type": "stream",
     "text": [
      "Maximum accuracy is  1.0 On random_state  1\n"
     ]
    }
   ],
   "source": [
    "# Finding the best random state\n",
    "from sklearn.model_selection import train_test_split\n",
    "from sklearn.ensemble import RandomForestClassifier\n",
    "from sklearn.metrics import accuracy_score\n",
    "maxAccu =0\n",
    "maxRS = 0\n",
    "for i in range(1,100):\n",
    "    x_train,x_test,y_train,y_test = train_test_split(x,y, test_size=.30, random_state=i)\n",
    "    RFR=RandomForestClassifier()\n",
    "    RFR.fit(x_train, y_train)\n",
    "    pred = RFR.predict(x_test)\n",
    "    acc = accuracy_score(y_test,pred)\n",
    "    if acc>maxAccu:\n",
    "        maxAccu = acc\n",
    "        maxRS=i\n",
    "print('Maximum accuracy is ', maxAccu,'On random_state ',maxRS) "
   ]
  },
  {
   "cell_type": "markdown",
   "id": "d5364e01-969f-42a8-8761-6de54ac7a2f9",
   "metadata": {},
   "source": [
    "The best accuracy is 1.0 at random state 1"
   ]
  },
  {
   "cell_type": "code",
   "execution_count": 351,
   "id": "9d067cb8-7771-44f3-85fd-3782fc3919ef",
   "metadata": {},
   "outputs": [],
   "source": [
    "#creating tain test split\n",
    "x_train, x_test, y_train,y_test = train_test_split(x,y, test_size= .30, random_state= maxRS)"
   ]
  },
  {
   "cell_type": "code",
   "execution_count": 352,
   "id": "810d178e-3816-4e4c-9e7d-1387666c06da",
   "metadata": {},
   "outputs": [],
   "source": [
    "#CLASSFICATION ALGORITHMS\n",
    "from sklearn.ensemble import RandomForestClassifier,ExtraTreesClassifier\n",
    "from sklearn.linear_model import LogisticRegression\n",
    "from sklearn.svm import SVC\n",
    "from sklearn.ensemble import GradientBoostingClassifier, AdaBoostClassifier, BaggingClassifier\n",
    "from sklearn.metrics import classification_report, confusion_matrix, roc_curve, accuracy_score\n",
    "from sklearn.model_selection import cross_val_score"
   ]
  },
  {
   "cell_type": "code",
   "execution_count": 353,
   "id": "037da5fa-1e28-47f8-933e-95c99204d297",
   "metadata": {},
   "outputs": [
    {
     "name": "stdout",
     "output_type": "stream",
     "text": [
      "1.0\n",
      "[[153   0]\n",
      " [  0 105]]\n",
      "              precision    recall  f1-score   support\n",
      "\n",
      "           0       1.00      1.00      1.00       153\n",
      "           1       1.00      1.00      1.00       105\n",
      "\n",
      "    accuracy                           1.00       258\n",
      "   macro avg       1.00      1.00      1.00       258\n",
      "weighted avg       1.00      1.00      1.00       258\n",
      "\n"
     ]
    }
   ],
   "source": [
    "RFC = RandomForestClassifier()\n",
    "RFC.fit(x_train, y_train)\n",
    "predRFC = RFC.predict(x_test)\n",
    "print(accuracy_score(y_test, predRFC))\n",
    "print(confusion_matrix(y_test, predRFC))\n",
    "print(classification_report(y_test, predRFC))"
   ]
  },
  {
   "cell_type": "code",
   "execution_count": 354,
   "id": "547d936b-98a3-414d-bca1-cfa98a62d3b1",
   "metadata": {},
   "outputs": [
    {
     "name": "stdout",
     "output_type": "stream",
     "text": [
      "1.0\n",
      "[[153   0]\n",
      " [  0 105]]\n",
      "              precision    recall  f1-score   support\n",
      "\n",
      "           0       1.00      1.00      1.00       153\n",
      "           1       1.00      1.00      1.00       105\n",
      "\n",
      "    accuracy                           1.00       258\n",
      "   macro avg       1.00      1.00      1.00       258\n",
      "weighted avg       1.00      1.00      1.00       258\n",
      "\n"
     ]
    }
   ],
   "source": [
    "LR  = LogisticRegression()\n",
    "LR.fit(x_train, y_train)\n",
    "predLR = LR.predict(x_test)\n",
    "print(accuracy_score(y_test, predLR))\n",
    "print(confusion_matrix(y_test, predLR))\n",
    "print(classification_report(y_test, predLR))"
   ]
  },
  {
   "cell_type": "code",
   "execution_count": 355,
   "id": "88d0fbdf-ec0a-4433-a99a-e87bad32c96b",
   "metadata": {},
   "outputs": [
    {
     "name": "stdout",
     "output_type": "stream",
     "text": [
      "0.6744186046511628\n",
      "[[147   6]\n",
      " [ 78  27]]\n",
      "              precision    recall  f1-score   support\n",
      "\n",
      "           0       0.65      0.96      0.78       153\n",
      "           1       0.82      0.26      0.39       105\n",
      "\n",
      "    accuracy                           0.67       258\n",
      "   macro avg       0.74      0.61      0.58       258\n",
      "weighted avg       0.72      0.67      0.62       258\n",
      "\n"
     ]
    }
   ],
   "source": [
    "svc = SVC()\n",
    "svc.fit(x_train, y_train)\n",
    "predsvc = svc.predict(x_test)\n",
    "print(accuracy_score(y_test, predsvc))\n",
    "print(confusion_matrix(y_test, predsvc))\n",
    "print(classification_report(y_test, predsvc))"
   ]
  },
  {
   "cell_type": "code",
   "execution_count": 356,
   "id": "b9a22e66-6d91-418b-8253-71e8d801ff0f",
   "metadata": {},
   "outputs": [
    {
     "name": "stdout",
     "output_type": "stream",
     "text": [
      "1.0\n",
      "[[153   0]\n",
      " [  0 105]]\n",
      "              precision    recall  f1-score   support\n",
      "\n",
      "           0       1.00      1.00      1.00       153\n",
      "           1       1.00      1.00      1.00       105\n",
      "\n",
      "    accuracy                           1.00       258\n",
      "   macro avg       1.00      1.00      1.00       258\n",
      "weighted avg       1.00      1.00      1.00       258\n",
      "\n"
     ]
    }
   ],
   "source": [
    "GB = GradientBoostingClassifier()\n",
    "GB.fit(x_train, y_train)\n",
    "predGB = GB.predict(x_test)\n",
    "print(accuracy_score(y_test, predGB))\n",
    "print(confusion_matrix(y_test, predGB))\n",
    "print(classification_report(y_test, predGB))"
   ]
  },
  {
   "cell_type": "code",
   "execution_count": 357,
   "id": "6bc032e9-d013-4788-ac76-a8347921a044",
   "metadata": {},
   "outputs": [
    {
     "name": "stdout",
     "output_type": "stream",
     "text": [
      "1.0\n",
      "[[153   0]\n",
      " [  0 105]]\n",
      "              precision    recall  f1-score   support\n",
      "\n",
      "           0       1.00      1.00      1.00       153\n",
      "           1       1.00      1.00      1.00       105\n",
      "\n",
      "    accuracy                           1.00       258\n",
      "   macro avg       1.00      1.00      1.00       258\n",
      "weighted avg       1.00      1.00      1.00       258\n",
      "\n"
     ]
    }
   ],
   "source": [
    "ABC = AdaBoostClassifier()\n",
    "ABC.fit(x_train, y_train)\n",
    "predABC = ABC.predict(x_test)\n",
    "print(accuracy_score(y_test, predABC))\n",
    "print(confusion_matrix(y_test, predABC))\n",
    "print(classification_report(y_test, predABC))"
   ]
  },
  {
   "cell_type": "code",
   "execution_count": 358,
   "id": "e7011ef4-2b4c-45a8-b4a3-e62b1e030e42",
   "metadata": {},
   "outputs": [
    {
     "name": "stdout",
     "output_type": "stream",
     "text": [
      "1.0\n",
      "[[153   0]\n",
      " [  0 105]]\n",
      "              precision    recall  f1-score   support\n",
      "\n",
      "           0       1.00      1.00      1.00       153\n",
      "           1       1.00      1.00      1.00       105\n",
      "\n",
      "    accuracy                           1.00       258\n",
      "   macro avg       1.00      1.00      1.00       258\n",
      "weighted avg       1.00      1.00      1.00       258\n",
      "\n"
     ]
    }
   ],
   "source": [
    "BC = BaggingClassifier()\n",
    "BC.fit(x_train, y_train)\n",
    "predBC = BC.predict(x_test)\n",
    "print(accuracy_score(y_test, predBC))\n",
    "print(confusion_matrix(y_test, predBC))\n",
    "print(classification_report(y_test, predBC))"
   ]
  },
  {
   "cell_type": "code",
   "execution_count": 359,
   "id": "89f4aa84-3bb7-4c8a-a5f8-39d75e59b8d5",
   "metadata": {},
   "outputs": [
    {
     "name": "stdout",
     "output_type": "stream",
     "text": [
      "1.0\n",
      "[[153   0]\n",
      " [  0 105]]\n",
      "              precision    recall  f1-score   support\n",
      "\n",
      "           0       1.00      1.00      1.00       153\n",
      "           1       1.00      1.00      1.00       105\n",
      "\n",
      "    accuracy                           1.00       258\n",
      "   macro avg       1.00      1.00      1.00       258\n",
      "weighted avg       1.00      1.00      1.00       258\n",
      "\n"
     ]
    }
   ],
   "source": [
    "ET = ExtraTreesClassifier()\n",
    "ET.fit(x_train, y_train)\n",
    "predET = ET.predict(x_test)\n",
    "print(accuracy_score(y_test, predET))\n",
    "print(confusion_matrix(y_test, predET))\n",
    "print(classification_report(y_test, predET))"
   ]
  },
  {
   "cell_type": "code",
   "execution_count": 360,
   "id": "94c85d20-402a-4215-b8c3-ae029a42e9ff",
   "metadata": {},
   "outputs": [],
   "source": [
    "from sklearn.model_selection import cross_val_score"
   ]
  },
  {
   "cell_type": "code",
   "execution_count": 363,
   "id": "ad38848f-ed6a-4a12-b2a2-3b79fa55d00c",
   "metadata": {},
   "outputs": [
    {
     "name": "stdout",
     "output_type": "stream",
     "text": [
      "[1. 1. 1. 1. 1.]\n",
      "1.0\n",
      "Difference between Accuracy score and cross val score is -  0.0\n"
     ]
    }
   ],
   "source": [
    "score = cross_val_score(RFC, x1,y1)\n",
    "print(score)\n",
    "print(score.mean())\n",
    "print('Difference between Accuracy score and cross val score is - ', accuracy_score(y_test, predRFC)-score.mean())"
   ]
  },
  {
   "cell_type": "code",
   "execution_count": 364,
   "id": "7a4cd42c-29b7-4460-9bc4-e3709f3b2061",
   "metadata": {},
   "outputs": [
    {
     "name": "stdout",
     "output_type": "stream",
     "text": [
      "[1. 1. 1. 1. 1.]\n",
      "1.0\n",
      "Difference between Accuracy score and cross val score is -  0.0\n"
     ]
    }
   ],
   "source": [
    "score = cross_val_score(LR, x1,y1)\n",
    "print(score)\n",
    "print(score.mean())\n",
    "print('Difference between Accuracy score and cross val score is - ', accuracy_score(y_test, predLR)-score.mean())"
   ]
  },
  {
   "cell_type": "code",
   "execution_count": 365,
   "id": "dda68589-308e-4829-875f-0bdfe57784c0",
   "metadata": {},
   "outputs": [
    {
     "name": "stdout",
     "output_type": "stream",
     "text": [
      "[1. 1. 1. 1. 1.]\n",
      "1.0\n",
      "Difference between Accuracy score and cross val score is -  0.0\n"
     ]
    }
   ],
   "source": [
    "score = cross_val_score(GB, x1,y1)\n",
    "print(score)\n",
    "print(score.mean())\n",
    "print('Difference between Accuracy score and cross val score is - ', accuracy_score(y_test, predGB)-score.mean())"
   ]
  },
  {
   "cell_type": "code",
   "execution_count": 366,
   "id": "cd6a1e6b-fc2b-4e93-9d4c-984e816a4609",
   "metadata": {},
   "outputs": [
    {
     "name": "stdout",
     "output_type": "stream",
     "text": [
      "[0.70283019 0.81132075 0.85377358 0.88207547 0.83962264]\n",
      "0.8179245283018869\n",
      "Difference between Accuracy score and cross val score is -  -0.14350592365072412\n"
     ]
    }
   ],
   "source": [
    "score = cross_val_score(svc, x1,y1)\n",
    "print(score)\n",
    "print(score.mean())\n",
    "print('Difference between Accuracy score and cross val score is - ', accuracy_score(y_test, predsvc)-score.mean())"
   ]
  },
  {
   "cell_type": "code",
   "execution_count": 367,
   "id": "29635074-a18c-43e5-945a-a6ae7c05c080",
   "metadata": {},
   "outputs": [
    {
     "name": "stdout",
     "output_type": "stream",
     "text": [
      "[1. 1. 1. 1. 1.]\n",
      "1.0\n",
      "Difference between Accuracy score and cross val score is -  0.0\n"
     ]
    }
   ],
   "source": [
    "score = cross_val_score(BC, x1,y1)\n",
    "print(score)\n",
    "print(score.mean())\n",
    "print('Difference between Accuracy score and cross val score is - ', accuracy_score(y_test, predBC)-score.mean())"
   ]
  },
  {
   "cell_type": "code",
   "execution_count": 368,
   "id": "fbde17fd-e1a8-4889-8bdd-f9e4becbb21e",
   "metadata": {},
   "outputs": [
    {
     "name": "stdout",
     "output_type": "stream",
     "text": [
      "[1. 1. 1. 1. 1.]\n",
      "1.0\n",
      "Difference between Accuracy score and cross val score is -  0.0\n"
     ]
    }
   ],
   "source": [
    "score = cross_val_score(ABC, x1,y1)\n",
    "print(score)\n",
    "print(score.mean())\n",
    "print('Difference between Accuracy score and cross val score is - ', accuracy_score(y_test, predABC)-score.mean())"
   ]
  },
  {
   "cell_type": "code",
   "execution_count": 369,
   "id": "cd2a912c-38ad-4be9-9ab8-353b4af45666",
   "metadata": {},
   "outputs": [
    {
     "name": "stdout",
     "output_type": "stream",
     "text": [
      "[1. 1. 1. 1. 1.]\n",
      "1.0\n",
      "Difference between Accuracy score and cross val score is -  0.0\n"
     ]
    }
   ],
   "source": [
    "score = cross_val_score(ET, x1,y1)\n",
    "print(score)\n",
    "print(score.mean())\n",
    "print('Difference between Accuracy score and cross val score is - ', accuracy_score(y_test, predET)-score.mean())"
   ]
  },
  {
   "cell_type": "markdown",
   "id": "6440f536-5967-4778-88a9-9826205d530a",
   "metadata": {},
   "source": [
    "Random forest classifier is our best model as the  diff between Accuracy and corss val score is the least."
   ]
  },
  {
   "cell_type": "code",
   "execution_count": 371,
   "id": "c296b781-1c40-411c-a770-033da0b02c64",
   "metadata": {},
   "outputs": [],
   "source": [
    "#Hyper Parameter tuning \n",
    "#Random forst Classifier \n",
    "from sklearn.model_selection import GridSearchCV\n",
    "\n",
    "parameters = {    'criterion': ['gini', 'entropy'],\n",
    "    'random_state': [10, 20, 50],\n",
    "    'max_depth': [None, 10, 20], \n",
    "    'n_jobs': [-2, -1, 1], \n",
    "    'n_estimators': [10, 50, 100] \n",
    "}          "
   ]
  },
  {
   "cell_type": "code",
   "execution_count": 372,
   "id": "26629783-1a9d-49bd-9585-cfcc1b39d2b4",
   "metadata": {},
   "outputs": [],
   "source": [
    "GCV =GridSearchCV(RandomForestClassifier(), parameters, cv=5)"
   ]
  },
  {
   "cell_type": "code",
   "execution_count": 373,
   "id": "5cde8447-491c-405d-9ddb-b250ded76fdd",
   "metadata": {},
   "outputs": [
    {
     "data": {
      "text/html": [
       "<style>#sk-container-id-1 {color: black;background-color: white;}#sk-container-id-1 pre{padding: 0;}#sk-container-id-1 div.sk-toggleable {background-color: white;}#sk-container-id-1 label.sk-toggleable__label {cursor: pointer;display: block;width: 100%;margin-bottom: 0;padding: 0.3em;box-sizing: border-box;text-align: center;}#sk-container-id-1 label.sk-toggleable__label-arrow:before {content: \"▸\";float: left;margin-right: 0.25em;color: #696969;}#sk-container-id-1 label.sk-toggleable__label-arrow:hover:before {color: black;}#sk-container-id-1 div.sk-estimator:hover label.sk-toggleable__label-arrow:before {color: black;}#sk-container-id-1 div.sk-toggleable__content {max-height: 0;max-width: 0;overflow: hidden;text-align: left;background-color: #f0f8ff;}#sk-container-id-1 div.sk-toggleable__content pre {margin: 0.2em;color: black;border-radius: 0.25em;background-color: #f0f8ff;}#sk-container-id-1 input.sk-toggleable__control:checked~div.sk-toggleable__content {max-height: 200px;max-width: 100%;overflow: auto;}#sk-container-id-1 input.sk-toggleable__control:checked~label.sk-toggleable__label-arrow:before {content: \"▾\";}#sk-container-id-1 div.sk-estimator input.sk-toggleable__control:checked~label.sk-toggleable__label {background-color: #d4ebff;}#sk-container-id-1 div.sk-label input.sk-toggleable__control:checked~label.sk-toggleable__label {background-color: #d4ebff;}#sk-container-id-1 input.sk-hidden--visually {border: 0;clip: rect(1px 1px 1px 1px);clip: rect(1px, 1px, 1px, 1px);height: 1px;margin: -1px;overflow: hidden;padding: 0;position: absolute;width: 1px;}#sk-container-id-1 div.sk-estimator {font-family: monospace;background-color: #f0f8ff;border: 1px dotted black;border-radius: 0.25em;box-sizing: border-box;margin-bottom: 0.5em;}#sk-container-id-1 div.sk-estimator:hover {background-color: #d4ebff;}#sk-container-id-1 div.sk-parallel-item::after {content: \"\";width: 100%;border-bottom: 1px solid gray;flex-grow: 1;}#sk-container-id-1 div.sk-label:hover label.sk-toggleable__label {background-color: #d4ebff;}#sk-container-id-1 div.sk-serial::before {content: \"\";position: absolute;border-left: 1px solid gray;box-sizing: border-box;top: 0;bottom: 0;left: 50%;z-index: 0;}#sk-container-id-1 div.sk-serial {display: flex;flex-direction: column;align-items: center;background-color: white;padding-right: 0.2em;padding-left: 0.2em;position: relative;}#sk-container-id-1 div.sk-item {position: relative;z-index: 1;}#sk-container-id-1 div.sk-parallel {display: flex;align-items: stretch;justify-content: center;background-color: white;position: relative;}#sk-container-id-1 div.sk-item::before, #sk-container-id-1 div.sk-parallel-item::before {content: \"\";position: absolute;border-left: 1px solid gray;box-sizing: border-box;top: 0;bottom: 0;left: 50%;z-index: -1;}#sk-container-id-1 div.sk-parallel-item {display: flex;flex-direction: column;z-index: 1;position: relative;background-color: white;}#sk-container-id-1 div.sk-parallel-item:first-child::after {align-self: flex-end;width: 50%;}#sk-container-id-1 div.sk-parallel-item:last-child::after {align-self: flex-start;width: 50%;}#sk-container-id-1 div.sk-parallel-item:only-child::after {width: 0;}#sk-container-id-1 div.sk-dashed-wrapped {border: 1px dashed gray;margin: 0 0.4em 0.5em 0.4em;box-sizing: border-box;padding-bottom: 0.4em;background-color: white;}#sk-container-id-1 div.sk-label label {font-family: monospace;font-weight: bold;display: inline-block;line-height: 1.2em;}#sk-container-id-1 div.sk-label-container {text-align: center;}#sk-container-id-1 div.sk-container {/* jupyter's `normalize.less` sets `[hidden] { display: none; }` but bootstrap.min.css set `[hidden] { display: none !important; }` so we also need the `!important` here to be able to override the default hidden behavior on the sphinx rendered scikit-learn.org. See: https://github.com/scikit-learn/scikit-learn/issues/21755 */display: inline-block !important;position: relative;}#sk-container-id-1 div.sk-text-repr-fallback {display: none;}</style><div id=\"sk-container-id-1\" class=\"sk-top-container\"><div class=\"sk-text-repr-fallback\"><pre>GridSearchCV(cv=5, estimator=RandomForestClassifier(),\n",
       "             param_grid={&#x27;criterion&#x27;: [&#x27;gini&#x27;, &#x27;entropy&#x27;],\n",
       "                         &#x27;max_depth&#x27;: [None, 10, 20],\n",
       "                         &#x27;n_estimators&#x27;: [10, 50, 100], &#x27;n_jobs&#x27;: [-2, -1, 1],\n",
       "                         &#x27;random_state&#x27;: [10, 20, 50]})</pre><b>In a Jupyter environment, please rerun this cell to show the HTML representation or trust the notebook. <br />On GitHub, the HTML representation is unable to render, please try loading this page with nbviewer.org.</b></div><div class=\"sk-container\" hidden><div class=\"sk-item sk-dashed-wrapped\"><div class=\"sk-label-container\"><div class=\"sk-label sk-toggleable\"><input class=\"sk-toggleable__control sk-hidden--visually\" id=\"sk-estimator-id-1\" type=\"checkbox\" ><label for=\"sk-estimator-id-1\" class=\"sk-toggleable__label sk-toggleable__label-arrow\">GridSearchCV</label><div class=\"sk-toggleable__content\"><pre>GridSearchCV(cv=5, estimator=RandomForestClassifier(),\n",
       "             param_grid={&#x27;criterion&#x27;: [&#x27;gini&#x27;, &#x27;entropy&#x27;],\n",
       "                         &#x27;max_depth&#x27;: [None, 10, 20],\n",
       "                         &#x27;n_estimators&#x27;: [10, 50, 100], &#x27;n_jobs&#x27;: [-2, -1, 1],\n",
       "                         &#x27;random_state&#x27;: [10, 20, 50]})</pre></div></div></div><div class=\"sk-parallel\"><div class=\"sk-parallel-item\"><div class=\"sk-item\"><div class=\"sk-label-container\"><div class=\"sk-label sk-toggleable\"><input class=\"sk-toggleable__control sk-hidden--visually\" id=\"sk-estimator-id-2\" type=\"checkbox\" ><label for=\"sk-estimator-id-2\" class=\"sk-toggleable__label sk-toggleable__label-arrow\">estimator: RandomForestClassifier</label><div class=\"sk-toggleable__content\"><pre>RandomForestClassifier()</pre></div></div></div><div class=\"sk-serial\"><div class=\"sk-item\"><div class=\"sk-estimator sk-toggleable\"><input class=\"sk-toggleable__control sk-hidden--visually\" id=\"sk-estimator-id-3\" type=\"checkbox\" ><label for=\"sk-estimator-id-3\" class=\"sk-toggleable__label sk-toggleable__label-arrow\">RandomForestClassifier</label><div class=\"sk-toggleable__content\"><pre>RandomForestClassifier()</pre></div></div></div></div></div></div></div></div></div></div>"
      ],
      "text/plain": [
       "GridSearchCV(cv=5, estimator=RandomForestClassifier(),\n",
       "             param_grid={'criterion': ['gini', 'entropy'],\n",
       "                         'max_depth': [None, 10, 20],\n",
       "                         'n_estimators': [10, 50, 100], 'n_jobs': [-2, -1, 1],\n",
       "                         'random_state': [10, 20, 50]})"
      ]
     },
     "execution_count": 373,
     "metadata": {},
     "output_type": "execute_result"
    }
   ],
   "source": [
    "GCV.fit(x_train,y_train)"
   ]
  },
  {
   "cell_type": "code",
   "execution_count": 374,
   "id": "8f4c378b-19c7-4bfe-8f3e-18d1f065ea26",
   "metadata": {},
   "outputs": [
    {
     "data": {
      "text/plain": [
       "{'criterion': 'gini',\n",
       " 'max_depth': None,\n",
       " 'n_estimators': 10,\n",
       " 'n_jobs': -2,\n",
       " 'random_state': 10}"
      ]
     },
     "execution_count": 374,
     "metadata": {},
     "output_type": "execute_result"
    }
   ],
   "source": [
    "GCV.best_params_"
   ]
  },
  {
   "cell_type": "code",
   "execution_count": 375,
   "id": "f29e6ebc-8d2b-4ea1-b576-df6fdb0d4bbf",
   "metadata": {},
   "outputs": [
    {
     "name": "stdout",
     "output_type": "stream",
     "text": [
      "100.0\n"
     ]
    }
   ],
   "source": [
    "Final_model = RandomForestClassifier(criterion= 'entropy', max_depth= 10, n_estimators= 50, n_jobs= -2, random_state= 10)\n",
    "Final_model.fit(x_train, y_train)\n",
    "pred = Final_model.predict(x_test)\n",
    "acc = accuracy_score(y_test, pred)\n",
    "print(acc*100)"
   ]
  },
  {
   "cell_type": "code",
   "execution_count": 376,
   "id": "9c5562ed-760a-4437-87a6-1fd0e54e6245",
   "metadata": {},
   "outputs": [],
   "source": [
    "#Calculating ROC and AUC \n",
    "from sklearn.metrics import roc_curve, roc_auc_score, auc\n",
    "fpr, tpr, thresholds = roc_curve(y_test, pred)\n",
    "roc_auc = auc(fpr, tpr)"
   ]
  },
  {
   "cell_type": "code",
   "execution_count": 377,
   "id": "7e8301f7-1ece-45e2-8ecc-9d7655cd468d",
   "metadata": {},
   "outputs": [
    {
     "data": {
      "image/png": "[encoded data removed]",
      "text/plain": [
       "<Figure size 800x600 with 1 Axes>"
      ]
     },
     "metadata": {},
     "output_type": "display_data"
    }
   ],
   "source": [
    "#plotting the ROC curve\n",
    "plt.figure(figsize=(8, 6))\n",
    "plt.plot(fpr, tpr, color='blue', lw=2, label=f'ROC curve (AUC = {roc_auc:.2f})')\n",
    "plt.plot([0, 1], [0, 1], color='gray', linestyle='--')\n",
    "plt.xlabel('False Positive Rate')\n",
    "plt.ylabel('True Positive Rate')\n",
    "plt.title('Receiver Operating Characteristic (ROC) Curve')\n",
    "plt.legend(loc='lower right')\n",
    "plt.show()"
   ]
  },
  {
   "cell_type": "code",
   "execution_count": 378,
   "id": "262b7fcf-a57d-4244-b561-76d4768a4c49",
   "metadata": {},
   "outputs": [
    {
     "name": "stdout",
     "output_type": "stream",
     "text": [
      "Best Hyperparameters: {'criterion': 'gini', 'max_depth': None, 'n_estimators': 10, 'n_jobs': -2, 'random_state': 10}\n",
      "AUC Value: 1.0\n"
     ]
    }
   ],
   "source": [
    "print(\"Best Hyperparameters:\", GCV.best_params_)\n",
    "print(\"AUC Value:\", roc_auc)"
   ]
  },
  {
   "cell_type": "markdown",
   "id": "b7580964-12ef-4c4b-b199-9ffb7814dcd4",
   "metadata": {},
   "source": [
    "Since AUC values range from 0 to 1, where 0.5 represents random guessing and 1 represents perfect discrimination, an AUC value of 0.666 suggests that your model performs better than random guessing."
   ]
  },
  {
   "cell_type": "code",
   "execution_count": 379,
   "id": "170b978e-2423-4e44-949d-97ddb61c52b0",
   "metadata": {},
   "outputs": [
    {
     "data": {
      "text/plain": [
       "['titanic_survived_analysis.pkl']"
      ]
     },
     "execution_count": 379,
     "metadata": {},
     "output_type": "execute_result"
    }
   ],
   "source": [
    "import joblib\n",
    "joblib.dump(Final_model, 'titanic_survived_analysis.pkl')"
   ]
  },
  {
   "cell_type": "code",
   "execution_count": 380,
   "id": "1ee770da-2599-437b-920f-3eb374b2f2f8",
   "metadata": {},
   "outputs": [
    {
     "data": {
      "text/plain": [
       "array([1, 0, 0, 1, 0, 1, 0, 1, 1, 1, 0, 1, 0, 1, 0, 0, 0, 0, 0, 0, 0, 1,\n",
       "       1, 0, 1, 0, 1, 0, 1, 0, 1, 1, 0, 1, 0, 1, 0, 1, 1, 0, 1, 0, 0, 1,\n",
       "       0, 0, 1, 0, 0, 1, 1, 1, 0, 0, 1, 0, 0, 0, 0, 0, 0, 0, 1, 1, 0, 0,\n",
       "       0, 0, 0, 1, 1, 0, 0, 0, 1, 0, 0, 0, 0, 0, 1, 1, 1, 0, 0, 1, 1, 1,\n",
       "       1, 1, 0, 0, 0, 0, 1, 1, 1, 0, 0, 0, 1, 0, 0, 1, 0, 1, 1, 0, 0, 0,\n",
       "       1, 1, 1, 0, 1, 0, 0, 0, 1, 0, 0, 0, 0, 1, 0, 0, 1, 0, 0, 0, 0, 1,\n",
       "       0, 1, 1, 0, 0, 0, 0, 1, 0, 1, 0, 0, 0, 0, 1, 1, 0, 0, 0, 0, 0, 1,\n",
       "       0, 1, 0, 1, 1, 0, 0, 0, 0, 1, 1, 0, 0, 0, 0, 0, 0, 0, 1, 1, 0, 1,\n",
       "       1, 0, 0, 1, 1, 1, 0, 0, 0, 0, 1, 1, 0, 0, 1, 0, 0, 0, 1, 1, 0, 1,\n",
       "       1, 0, 0, 1, 1, 0, 1, 1, 0, 0, 0, 1, 0, 0, 0, 0, 0, 0, 0, 0, 1, 0,\n",
       "       1, 1, 0, 1, 1, 1, 0, 1, 1, 1, 0, 1, 1, 0, 0, 1, 0, 0, 0, 0, 1, 0,\n",
       "       1, 0, 1, 0, 1, 1, 0, 0, 0, 0, 1, 1, 1, 0, 0, 0], dtype=int64)"
      ]
     },
     "execution_count": 380,
     "metadata": {},
     "output_type": "execute_result"
    }
   ],
   "source": [
    "model = joblib.load('titanic_survived_analysis.pkl')\n",
    "\n",
    "prediction = model.predict(x_test)\n",
    "prediction"
   ]
  },
  {
   "cell_type": "code",
   "execution_count": 381,
   "id": "43dc4795-28f7-4241-b92d-092c1f17b695",
   "metadata": {},
   "outputs": [
    {
     "data": {
      "text/html": [
       "<div>\n",
       "<style scoped>\n",
       "    .dataframe tbody tr th:only-of-type {\n",
       "        vertical-align: middle;\n",
       "    }\n",
       "\n",
       "    .dataframe tbody tr th {\n",
       "        vertical-align: top;\n",
       "    }\n",
       "\n",
       "    .dataframe thead th {\n",
       "        text-align: right;\n",
       "    }\n",
       "</style>\n",
       "<table border=\"1\" class=\"dataframe\">\n",
       "  <thead>\n",
       "    <tr style=\"text-align: right;\">\n",
       "      <th></th>\n",
       "      <th>Predicted</th>\n",
       "      <th>Orignal</th>\n",
       "    </tr>\n",
       "  </thead>\n",
       "  <tbody>\n",
       "    <tr>\n",
       "      <th>0</th>\n",
       "      <td>1</td>\n",
       "      <td>1</td>\n",
       "    </tr>\n",
       "    <tr>\n",
       "      <th>1</th>\n",
       "      <td>0</td>\n",
       "      <td>0</td>\n",
       "    </tr>\n",
       "    <tr>\n",
       "      <th>2</th>\n",
       "      <td>0</td>\n",
       "      <td>0</td>\n",
       "    </tr>\n",
       "    <tr>\n",
       "      <th>3</th>\n",
       "      <td>1</td>\n",
       "      <td>1</td>\n",
       "    </tr>\n",
       "    <tr>\n",
       "      <th>4</th>\n",
       "      <td>0</td>\n",
       "      <td>0</td>\n",
       "    </tr>\n",
       "    <tr>\n",
       "      <th>...</th>\n",
       "      <td>...</td>\n",
       "      <td>...</td>\n",
       "    </tr>\n",
       "    <tr>\n",
       "      <th>253</th>\n",
       "      <td>1</td>\n",
       "      <td>1</td>\n",
       "    </tr>\n",
       "    <tr>\n",
       "      <th>254</th>\n",
       "      <td>1</td>\n",
       "      <td>1</td>\n",
       "    </tr>\n",
       "    <tr>\n",
       "      <th>255</th>\n",
       "      <td>0</td>\n",
       "      <td>0</td>\n",
       "    </tr>\n",
       "    <tr>\n",
       "      <th>256</th>\n",
       "      <td>0</td>\n",
       "      <td>0</td>\n",
       "    </tr>\n",
       "    <tr>\n",
       "      <th>257</th>\n",
       "      <td>0</td>\n",
       "      <td>0</td>\n",
       "    </tr>\n",
       "  </tbody>\n",
       "</table>\n",
       "<p>258 rows × 2 columns</p>\n",
       "</div>"
      ],
      "text/plain": [
       "     Predicted  Orignal\n",
       "0            1        1\n",
       "1            0        0\n",
       "2            0        0\n",
       "3            1        1\n",
       "4            0        0\n",
       "..         ...      ...\n",
       "253          1        1\n",
       "254          1        1\n",
       "255          0        0\n",
       "256          0        0\n",
       "257          0        0\n",
       "\n",
       "[258 rows x 2 columns]"
      ]
     },
     "execution_count": 381,
     "metadata": {},
     "output_type": "execute_result"
    }
   ],
   "source": [
    "a = np.array(y_test)\n",
    "df = pd.DataFrame()\n",
    "df['Predicted']= prediction\n",
    "df['Orignal']=a\n",
    "df"
   ]
  },
  {
   "cell_type": "markdown",
   "id": "63c45673-a98f-4b77-9689-e62aaf4bd0ad",
   "metadata": {},
   "source": [
    "So our model is predicting perfectly fine. The predicted value and the orignal value is exactly same."
   ]
  },
  {
   "cell_type": "code",
   "execution_count": null,
   "id": "7852c789-0675-4521-81bf-342a58c74d1f",
   "metadata": {},
   "outputs": [],
   "source": []
  }
 ],
 "metadata": {
  "kernelspec": {
   "display_name": "Python 3 (ipykernel)",
   "language": "python",
   "name": "python3"
  },
  "language_info": {
   "codemirror_mode": {
    "name": "ipython",
    "version": 3
   },
   "file_extension": ".py",
   "mimetype": "text/x-python",
   "name": "python",
   "nbconvert_exporter": "python",
   "pygments_lexer": "ipython3",
   "version": "3.11.7"
  }
 },
 "nbformat": 4,
 "nbformat_minor": 5
}
