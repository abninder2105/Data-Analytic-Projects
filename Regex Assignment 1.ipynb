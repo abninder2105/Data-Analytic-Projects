{
 "cells": [
  {
   "cell_type": "code",
   "execution_count": 1,
   "id": "226ee57b",
   "metadata": {},
   "outputs": [],
   "source": [
    "import re \n",
    "import pandas as pd"
   ]
  },
  {
   "cell_type": "code",
   "execution_count": 2,
   "id": "5c588e1d",
   "metadata": {},
   "outputs": [
    {
     "name": "stdout",
     "output_type": "stream",
     "text": [
      "Orignal text Python Exercise, PHP exercise.\n",
      "Replaced_text Python:Exercise::PHP:exercise:\n"
     ]
    }
   ],
   "source": [
    "#Que 1\n",
    "text = \"Python Exercise, PHP exercise.\"\n",
    "result= re.sub('[ ,.]',\":\",text)\n",
    "print(\"Orignal text\", text)\n",
    "print(\"Replaced_text\", result)"
   ]
  },
  {
   "cell_type": "code",
   "execution_count": 3,
   "id": "c2838860",
   "metadata": {},
   "outputs": [
    {
     "name": "stdout",
     "output_type": "stream",
     "text": [
      "                SUMMARY\n",
      "0          hello world \n",
      "1                  test\n",
      "2     four five  six   \n"
     ]
    }
   ],
   "source": [
    "#Que 2\n",
    "dict_={'SUMMARY':['hello,world!','XXXXtest','123four,five:;six...']}\n",
    "\n",
    "df=pd.DataFrame(dict_)\n",
    "\n",
    "def rem_char(text):\n",
    "    result= re.sub('[^a-z\\s]',' ',text)\n",
    "    return result\n",
    "\n",
    "df= df.applymap(rem_char)\n",
    "print(df)"
   ]
  },
  {
   "cell_type": "code",
   "execution_count": 4,
   "id": "226822e4",
   "metadata": {},
   "outputs": [
    {
     "name": "stdout",
     "output_type": "stream",
     "text": [
      "['name', 'Abninder', 'Kumar', 'Yadav', 'lives', 'Noida']\n"
     ]
    }
   ],
   "source": [
    "#Que 3\n",
    "text= \"Hi my name is Abninder Kumar Yadav, I lives in Noida.\"\n",
    "\n",
    "def four_char(text):\n",
    "    pattern= re.compile(r'\\w{4,}')\n",
    "    result = re.findall(pattern,text)\n",
    "    return result\n",
    "\n",
    "find_four_char = four_char(text)\n",
    "print(find_four_char)\n"
   ]
  },
  {
   "cell_type": "code",
   "execution_count": 5,
   "id": "dd7abd0f",
   "metadata": {},
   "outputs": [
    {
     "name": "stdout",
     "output_type": "stream",
     "text": [
      "['name', 'Abnin', 'der', 'Kumar', 'Yadav', 'lives', 'Noida']\n"
     ]
    }
   ],
   "source": [
    "#Que 4\n",
    "\n",
    "text= \"Hi my name is Abninder Kumar Yadav, I lives in Noida.\"\n",
    "\n",
    "def four_char(text):\n",
    "    pattern= re.compile(r'\\w{3,5}')\n",
    "    result = re.findall(pattern,text)\n",
    "    return result\n",
    "\n",
    "find_four_char = four_char(text)\n",
    "print(find_four_char)"
   ]
  },
  {
   "cell_type": "code",
   "execution_count": 6,
   "id": "ffb12680",
   "metadata": {},
   "outputs": [
    {
     "name": "stdout",
     "output_type": "stream",
     "text": [
      "['example.com', 'hr@fliprobo.com', 'github.com', 'HelloData Science World', 'DataScientist']\n"
     ]
    }
   ],
   "source": [
    "#Que 5\n",
    "\n",
    "string_text=[\"example(.com)\",\"hr@fliprobo(.com)\",\"github(.com)\",\"Hello(Data Science World)\",\"Data(Scientist)\"]\n",
    "\n",
    "def rem_parn(string_text):\n",
    "    pattern = re.compile(r'\\(([^)]*)\\)')\n",
    "    result = [pattern.sub(r'\\1', text) for text in string_text]\n",
    "    return result\n",
    "\n",
    "Removed_parn_string= rem_parn(string_text)\n",
    "print(Removed_parn_string)\n"
   ]
  },
  {
   "cell_type": "code",
   "execution_count": 7,
   "id": "e9ed7cf2",
   "metadata": {},
   "outputs": [
    {
     "name": "stdout",
     "output_type": "stream",
     "text": [
      "['example', 'hr@fliprobo', 'github', 'Hello', 'Data']\n"
     ]
    }
   ],
   "source": [
    "#Que 6\n",
    "string_text=[\"example(.com)\",\"hr@fliprobo(.com)\",\"github(.com)\",\"Hello(Data Science World)\",\"Data(Scientist)\"]\n",
    "\n",
    "def rem_parn(string_text):\n",
    "    pattern = re.compile(r'\\(([^)]*)\\)')\n",
    "    result = [pattern.sub('', text) for text in string_text]\n",
    "    return result\n",
    "\n",
    "Removed_parn_string= rem_parn(string_text)\n",
    "print(Removed_parn_string)"
   ]
  },
  {
   "cell_type": "code",
   "execution_count": 8,
   "id": "8a70b58f",
   "metadata": {},
   "outputs": [
    {
     "name": "stdout",
     "output_type": "stream",
     "text": [
      "ImportanceOfRegularExpressionInPyhton\n",
      "['Importance', 'Of', 'Regular', 'Expression', 'In', 'Pyhton']\n"
     ]
    }
   ],
   "source": [
    "#Que 7\n",
    "\n",
    "sample_text = \"ImportanceOfRegularExpressionInPyhton\"\n",
    "result= re.findall(\"[A-Z][a-z]*\",sample_text)\n",
    "\n",
    "print(sample_text)\n",
    "print(result)"
   ]
  },
  {
   "cell_type": "code",
   "execution_count": 9,
   "id": "8004557c",
   "metadata": {},
   "outputs": [
    {
     "name": "stdout",
     "output_type": "stream",
     "text": [
      "Orignaltext= RegularExpression1IsAn2ImportantTopic3InPython\n",
      "Newtext= RegularExpression 1IsAn 2ImportantTopic 3InPython\n"
     ]
    }
   ],
   "source": [
    "#Que 8\n",
    "\n",
    "sample_text = \"RegularExpression1IsAn2ImportantTopic3InPython\"\n",
    "\n",
    "def insert_spaces(text):\n",
    "    pattern = re.compile(r'(?<=\\D)(?=\\d)')\n",
    "    result_string = pattern.sub(' ', text)\n",
    "    return result_string\n",
    "\n",
    "\n",
    "final_text = insert_spaces(sample_text)\n",
    "\n",
    "print( \"Orignaltext=\",sample_text)\n",
    "print( \"Newtext=\",final_text)\n"
   ]
  },
  {
   "cell_type": "code",
   "execution_count": 10,
   "id": "ce30a0ce",
   "metadata": {},
   "outputs": [
    {
     "name": "stdout",
     "output_type": "stream",
     "text": [
      "Orignaltext= RegularExpression1IsAn2ImportantTopic3InPython\n",
      "Newtext= RegularExpression 1 IsAn 2 ImportantTopic 3 InPython\n"
     ]
    }
   ],
   "source": [
    "#Que 9\n",
    "\n",
    "sample_text = \"RegularExpression1IsAn2ImportantTopic3InPython\"\n",
    "\n",
    "def insert_spaces(text):\n",
    "    pattern = re.compile(r'(?<=[A-Z\\d])(?=[A-Z])|(?<=[a-z])(?=\\d)')\n",
    "    result_string = pattern.sub(' ', text)\n",
    "    return result_string\n",
    "\n",
    "\n",
    "final_text = insert_spaces(sample_text)\n",
    "\n",
    "print( \"Orignaltext=\",sample_text)\n",
    "print( \"Newtext=\",final_text)"
   ]
  },
  {
   "cell_type": "code",
   "execution_count": 11,
   "id": "95b3cc16",
   "metadata": {},
   "outputs": [
    {
     "data": {
      "text/html": [
       "<div>\n",
       "<style scoped>\n",
       "    .dataframe tbody tr th:only-of-type {\n",
       "        vertical-align: middle;\n",
       "    }\n",
       "\n",
       "    .dataframe tbody tr th {\n",
       "        vertical-align: top;\n",
       "    }\n",
       "\n",
       "    .dataframe thead th {\n",
       "        text-align: right;\n",
       "    }\n",
       "</style>\n",
       "<table border=\"1\" class=\"dataframe\">\n",
       "  <thead>\n",
       "    <tr style=\"text-align: right;\">\n",
       "      <th></th>\n",
       "      <th>Country</th>\n",
       "      <th>Region</th>\n",
       "      <th>Happiness Rank</th>\n",
       "      <th>Happiness Score</th>\n",
       "      <th>Standard Error</th>\n",
       "      <th>Economy (GDP per Capita)</th>\n",
       "      <th>Family</th>\n",
       "      <th>Health (Life Expectancy)</th>\n",
       "      <th>Freedom</th>\n",
       "      <th>Trust (Government Corruption)</th>\n",
       "      <th>Generosity</th>\n",
       "      <th>Dystopia Residual</th>\n",
       "    </tr>\n",
       "  </thead>\n",
       "  <tbody>\n",
       "    <tr>\n",
       "      <th>0</th>\n",
       "      <td>Switzerland</td>\n",
       "      <td>Western Europe</td>\n",
       "      <td>1</td>\n",
       "      <td>7.587</td>\n",
       "      <td>0.03411</td>\n",
       "      <td>1.39651</td>\n",
       "      <td>1.34951</td>\n",
       "      <td>0.94143</td>\n",
       "      <td>0.66557</td>\n",
       "      <td>0.41978</td>\n",
       "      <td>0.29678</td>\n",
       "      <td>2.51738</td>\n",
       "    </tr>\n",
       "    <tr>\n",
       "      <th>1</th>\n",
       "      <td>Iceland</td>\n",
       "      <td>Western Europe</td>\n",
       "      <td>2</td>\n",
       "      <td>7.561</td>\n",
       "      <td>0.04884</td>\n",
       "      <td>1.30232</td>\n",
       "      <td>1.40223</td>\n",
       "      <td>0.94784</td>\n",
       "      <td>0.62877</td>\n",
       "      <td>0.14145</td>\n",
       "      <td>0.43630</td>\n",
       "      <td>2.70201</td>\n",
       "    </tr>\n",
       "    <tr>\n",
       "      <th>2</th>\n",
       "      <td>Denmark</td>\n",
       "      <td>Western Europe</td>\n",
       "      <td>3</td>\n",
       "      <td>7.527</td>\n",
       "      <td>0.03328</td>\n",
       "      <td>1.32548</td>\n",
       "      <td>1.36058</td>\n",
       "      <td>0.87464</td>\n",
       "      <td>0.64938</td>\n",
       "      <td>0.48357</td>\n",
       "      <td>0.34139</td>\n",
       "      <td>2.49204</td>\n",
       "    </tr>\n",
       "    <tr>\n",
       "      <th>3</th>\n",
       "      <td>Norway</td>\n",
       "      <td>Western Europe</td>\n",
       "      <td>4</td>\n",
       "      <td>7.522</td>\n",
       "      <td>0.03880</td>\n",
       "      <td>1.45900</td>\n",
       "      <td>1.33095</td>\n",
       "      <td>0.88521</td>\n",
       "      <td>0.66973</td>\n",
       "      <td>0.36503</td>\n",
       "      <td>0.34699</td>\n",
       "      <td>2.46531</td>\n",
       "    </tr>\n",
       "    <tr>\n",
       "      <th>4</th>\n",
       "      <td>Canada</td>\n",
       "      <td>North America</td>\n",
       "      <td>5</td>\n",
       "      <td>7.427</td>\n",
       "      <td>0.03553</td>\n",
       "      <td>1.32629</td>\n",
       "      <td>1.32261</td>\n",
       "      <td>0.90563</td>\n",
       "      <td>0.63297</td>\n",
       "      <td>0.32957</td>\n",
       "      <td>0.45811</td>\n",
       "      <td>2.45176</td>\n",
       "    </tr>\n",
       "    <tr>\n",
       "      <th>...</th>\n",
       "      <td>...</td>\n",
       "      <td>...</td>\n",
       "      <td>...</td>\n",
       "      <td>...</td>\n",
       "      <td>...</td>\n",
       "      <td>...</td>\n",
       "      <td>...</td>\n",
       "      <td>...</td>\n",
       "      <td>...</td>\n",
       "      <td>...</td>\n",
       "      <td>...</td>\n",
       "      <td>...</td>\n",
       "    </tr>\n",
       "    <tr>\n",
       "      <th>153</th>\n",
       "      <td>Rwanda</td>\n",
       "      <td>Sub-Saharan Africa</td>\n",
       "      <td>154</td>\n",
       "      <td>3.465</td>\n",
       "      <td>0.03464</td>\n",
       "      <td>0.22208</td>\n",
       "      <td>0.77370</td>\n",
       "      <td>0.42864</td>\n",
       "      <td>0.59201</td>\n",
       "      <td>0.55191</td>\n",
       "      <td>0.22628</td>\n",
       "      <td>0.67042</td>\n",
       "    </tr>\n",
       "    <tr>\n",
       "      <th>154</th>\n",
       "      <td>Benin</td>\n",
       "      <td>Sub-Saharan Africa</td>\n",
       "      <td>155</td>\n",
       "      <td>3.340</td>\n",
       "      <td>0.03656</td>\n",
       "      <td>0.28665</td>\n",
       "      <td>0.35386</td>\n",
       "      <td>0.31910</td>\n",
       "      <td>0.48450</td>\n",
       "      <td>0.08010</td>\n",
       "      <td>0.18260</td>\n",
       "      <td>1.63328</td>\n",
       "    </tr>\n",
       "    <tr>\n",
       "      <th>155</th>\n",
       "      <td>Syria</td>\n",
       "      <td>Middle East and Northern Africa</td>\n",
       "      <td>156</td>\n",
       "      <td>3.006</td>\n",
       "      <td>0.05015</td>\n",
       "      <td>0.66320</td>\n",
       "      <td>0.47489</td>\n",
       "      <td>0.72193</td>\n",
       "      <td>0.15684</td>\n",
       "      <td>0.18906</td>\n",
       "      <td>0.47179</td>\n",
       "      <td>0.32858</td>\n",
       "    </tr>\n",
       "    <tr>\n",
       "      <th>156</th>\n",
       "      <td>Burundi</td>\n",
       "      <td>Sub-Saharan Africa</td>\n",
       "      <td>157</td>\n",
       "      <td>2.905</td>\n",
       "      <td>0.08658</td>\n",
       "      <td>0.01530</td>\n",
       "      <td>0.41587</td>\n",
       "      <td>0.22396</td>\n",
       "      <td>0.11850</td>\n",
       "      <td>0.10062</td>\n",
       "      <td>0.19727</td>\n",
       "      <td>1.83302</td>\n",
       "    </tr>\n",
       "    <tr>\n",
       "      <th>157</th>\n",
       "      <td>Togo</td>\n",
       "      <td>Sub-Saharan Africa</td>\n",
       "      <td>158</td>\n",
       "      <td>2.839</td>\n",
       "      <td>0.06727</td>\n",
       "      <td>0.20868</td>\n",
       "      <td>0.13995</td>\n",
       "      <td>0.28443</td>\n",
       "      <td>0.36453</td>\n",
       "      <td>0.10731</td>\n",
       "      <td>0.16681</td>\n",
       "      <td>1.56726</td>\n",
       "    </tr>\n",
       "  </tbody>\n",
       "</table>\n",
       "<p>158 rows × 12 columns</p>\n",
       "</div>"
      ],
      "text/plain": [
       "         Country                           Region  Happiness Rank  \\\n",
       "0    Switzerland                   Western Europe               1   \n",
       "1        Iceland                   Western Europe               2   \n",
       "2        Denmark                   Western Europe               3   \n",
       "3         Norway                   Western Europe               4   \n",
       "4         Canada                    North America               5   \n",
       "..           ...                              ...             ...   \n",
       "153       Rwanda               Sub-Saharan Africa             154   \n",
       "154        Benin               Sub-Saharan Africa             155   \n",
       "155        Syria  Middle East and Northern Africa             156   \n",
       "156      Burundi               Sub-Saharan Africa             157   \n",
       "157         Togo               Sub-Saharan Africa             158   \n",
       "\n",
       "     Happiness Score  Standard Error  Economy (GDP per Capita)   Family  \\\n",
       "0              7.587         0.03411                   1.39651  1.34951   \n",
       "1              7.561         0.04884                   1.30232  1.40223   \n",
       "2              7.527         0.03328                   1.32548  1.36058   \n",
       "3              7.522         0.03880                   1.45900  1.33095   \n",
       "4              7.427         0.03553                   1.32629  1.32261   \n",
       "..               ...             ...                       ...      ...   \n",
       "153            3.465         0.03464                   0.22208  0.77370   \n",
       "154            3.340         0.03656                   0.28665  0.35386   \n",
       "155            3.006         0.05015                   0.66320  0.47489   \n",
       "156            2.905         0.08658                   0.01530  0.41587   \n",
       "157            2.839         0.06727                   0.20868  0.13995   \n",
       "\n",
       "     Health (Life Expectancy)  Freedom  Trust (Government Corruption)  \\\n",
       "0                     0.94143  0.66557                        0.41978   \n",
       "1                     0.94784  0.62877                        0.14145   \n",
       "2                     0.87464  0.64938                        0.48357   \n",
       "3                     0.88521  0.66973                        0.36503   \n",
       "4                     0.90563  0.63297                        0.32957   \n",
       "..                        ...      ...                            ...   \n",
       "153                   0.42864  0.59201                        0.55191   \n",
       "154                   0.31910  0.48450                        0.08010   \n",
       "155                   0.72193  0.15684                        0.18906   \n",
       "156                   0.22396  0.11850                        0.10062   \n",
       "157                   0.28443  0.36453                        0.10731   \n",
       "\n",
       "     Generosity  Dystopia Residual  \n",
       "0       0.29678            2.51738  \n",
       "1       0.43630            2.70201  \n",
       "2       0.34139            2.49204  \n",
       "3       0.34699            2.46531  \n",
       "4       0.45811            2.45176  \n",
       "..          ...                ...  \n",
       "153     0.22628            0.67042  \n",
       "154     0.18260            1.63328  \n",
       "155     0.47179            0.32858  \n",
       "156     0.19727            1.83302  \n",
       "157     0.16681            1.56726  \n",
       "\n",
       "[158 rows x 12 columns]"
      ]
     },
     "execution_count": 11,
     "metadata": {},
     "output_type": "execute_result"
    }
   ],
   "source": [
    "#Que 10\n",
    "\n",
    "df=pd.read_csv(\"https://raw.githubusercontent.com/dsrscientist/DSData/master/happiness_score_dataset.csv\")\n",
    "df"
   ]
  },
  {
   "cell_type": "code",
   "execution_count": 12,
   "id": "253d74c9",
   "metadata": {},
   "outputs": [
    {
     "name": "stdout",
     "output_type": "stream",
     "text": [
      "         Country                           Region  Happiness Rank  \\\n",
      "0    Switzerland                   Western Europe               1   \n",
      "1        Iceland                   Western Europe               2   \n",
      "2        Denmark                   Western Europe               3   \n",
      "3         Norway                   Western Europe               4   \n",
      "4         Canada                    North America               5   \n",
      "..           ...                              ...             ...   \n",
      "153       Rwanda               Sub-Saharan Africa             154   \n",
      "154        Benin               Sub-Saharan Africa             155   \n",
      "155        Syria  Middle East and Northern Africa             156   \n",
      "156      Burundi               Sub-Saharan Africa             157   \n",
      "157         Togo               Sub-Saharan Africa             158   \n",
      "\n",
      "     Happiness Score  Standard Error  Economy (GDP per Capita)   Family  \\\n",
      "0              7.587         0.03411                   1.39651  1.34951   \n",
      "1              7.561         0.04884                   1.30232  1.40223   \n",
      "2              7.527         0.03328                   1.32548  1.36058   \n",
      "3              7.522         0.03880                   1.45900  1.33095   \n",
      "4              7.427         0.03553                   1.32629  1.32261   \n",
      "..               ...             ...                       ...      ...   \n",
      "153            3.465         0.03464                   0.22208  0.77370   \n",
      "154            3.340         0.03656                   0.28665  0.35386   \n",
      "155            3.006         0.05015                   0.66320  0.47489   \n",
      "156            2.905         0.08658                   0.01530  0.41587   \n",
      "157            2.839         0.06727                   0.20868  0.13995   \n",
      "\n",
      "     Health (Life Expectancy)  Freedom  Trust (Government Corruption)  \\\n",
      "0                     0.94143  0.66557                        0.41978   \n",
      "1                     0.94784  0.62877                        0.14145   \n",
      "2                     0.87464  0.64938                        0.48357   \n",
      "3                     0.88521  0.66973                        0.36503   \n",
      "4                     0.90563  0.63297                        0.32957   \n",
      "..                        ...      ...                            ...   \n",
      "153                   0.42864  0.59201                        0.55191   \n",
      "154                   0.31910  0.48450                        0.08010   \n",
      "155                   0.72193  0.15684                        0.18906   \n",
      "156                   0.22396  0.11850                        0.10062   \n",
      "157                   0.28443  0.36453                        0.10731   \n",
      "\n",
      "     Generosity  Dystopia Residual first_five_letters  \n",
      "0       0.29678            2.51738             Switze  \n",
      "1       0.43630            2.70201             Icelan  \n",
      "2       0.34139            2.49204             Denmar  \n",
      "3       0.34699            2.46531             Norway  \n",
      "4       0.45811            2.45176             Canada  \n",
      "..          ...                ...                ...  \n",
      "153     0.22628            0.67042             Rwanda  \n",
      "154     0.18260            1.63328              Benin  \n",
      "155     0.47179            0.32858              Syria  \n",
      "156     0.19727            1.83302             Burund  \n",
      "157     0.16681            1.56726               Togo  \n",
      "\n",
      "[158 rows x 13 columns]\n"
     ]
    }
   ],
   "source": [
    "df['first_five_letters'] = df['Country'].str[:6]\n",
    "print(df.head(158))\n"
   ]
  },
  {
   "cell_type": "code",
   "execution_count": 13,
   "id": "f16d9ac3",
   "metadata": {},
   "outputs": [
    {
     "name": "stdout",
     "output_type": "stream",
     "text": [
      "Is \"Abninder_kumar_210598\" valid? True\n"
     ]
    }
   ],
   "source": [
    "#Que 11\n",
    "test_string1 = \"Abninder_kumar_210598\"\n",
    "\n",
    "def true_string(input_string):\n",
    "    pattern = re.compile(r'^[a-zA-Z0-9_]+$')\n",
    "    match_result = pattern.match(input_string)\n",
    "\n",
    "    return bool(match_result)\n",
    "\n",
    "print(f'Is \"{test_string1}\" valid? {true_string(test_string1)}')\n",
    "\n"
   ]
  },
  {
   "cell_type": "code",
   "execution_count": 14,
   "id": "004014ed",
   "metadata": {},
   "outputs": [
    {
     "name": "stdout",
     "output_type": "stream",
     "text": [
      "Enter a string: khgibk\n",
      "The string does not start with a number.\n"
     ]
    }
   ],
   "source": [
    "#Que 12\n",
    "\n",
    "def starts_with_number(string, number_pattern):\n",
    "    pattern = re.compile(number_pattern)\n",
    "    match = pattern.match(string)\n",
    "\n",
    "    if match:\n",
    "        return True\n",
    "    else:\n",
    "        return False\n",
    "\n",
    "input_string = input(\"Enter a string: \")\n",
    "number_pattern = r'^\\d+'  \n",
    "\n",
    "if starts_with_number(input_string, number_pattern):\n",
    "    print(\"The string starts with a number.\")\n",
    "else:\n",
    "    print(\"The string does not start with a number.\")\n",
    "\n"
   ]
  },
  {
   "cell_type": "code",
   "execution_count": 15,
   "id": "5dde9c25",
   "metadata": {},
   "outputs": [
    {
     "name": "stdout",
     "output_type": "stream",
     "text": [
      "Enter an IP address: hjbjhb\n",
      "IP address with leading zeros removed: hjbjhb\n"
     ]
    }
   ],
   "source": [
    "#Que 13\n",
    "\n",
    "def remove_leading_zeros(ip_add):\n",
    "    pattern = re.compile(r'\\b0*(\\d+)\\b')\n",
    "    new_ip = pattern.sub(r'\\1', ip_add)\n",
    "    return new_ip\n",
    "\n",
    "ip_add = input(\"Enter an IP address: \")\n",
    "\n",
    "new_ip = remove_leading_zeros(ip_add)\n",
    "print(f\"IP address with leading zeros removed: {new_ip}\")\n"
   ]
  },
  {
   "cell_type": "code",
   "execution_count": 21,
   "id": "0990348d",
   "metadata": {},
   "outputs": [
    {
     "name": "stdout",
     "output_type": "stream",
     "text": [
      "Sample_text= ' On August 15th 1947 that India was declared independent from British colonialism, and the reins of control were handed over to the leaders of the Countryâ€™.\n",
      "Extracted text= August 15th 1947\n"
     ]
    }
   ],
   "source": [
    "#Que 14\n",
    "print(\"Sample_text=\",text)\n",
    "with open('sample_text.txt', 'r') as file:\n",
    "    text = file.read()\n",
    "\n",
    "date_pattern = re.compile(r'\\b(?:January|February|March|April|May|June|July|August|September|October|November|December)\\s+\\d{1,2}(?:st|nd|rd|th)\\s+\\d{4}\\b')\n",
    "matches = date_pattern.findall(text)\n",
    "\n",
    "for match in matches:\n",
    "    print(\"Extracted text=\",match)\n"
   ]
  },
  {
   "cell_type": "code",
   "execution_count": 22,
   "id": "ee904e73",
   "metadata": {},
   "outputs": [
    {
     "name": "stdout",
     "output_type": "stream",
     "text": [
      "Found 'fox' in the text.\n",
      "Found 'dog' in the text.\n",
      "'horse' not found in the text.\n"
     ]
    }
   ],
   "source": [
    "#Que 15\n",
    "sample_text = 'The quick brown fox jumps over the lazy dog.'\n",
    "searched_words = ['fox', 'dog', 'horse']\n",
    "\n",
    "def search_literals(text, searched_words):\n",
    "    for word in searched_words:\n",
    "        pattern = re.compile(re.escape(word))\n",
    "        match = pattern.search(text)\n",
    "        if match:\n",
    "            print(f\"Found '{word}' in the text.\")\n",
    "        else:\n",
    "            print(f\"'{word}' not found in the text.\")\n",
    "\n",
    "\n",
    "search_literals(sample_text, searched_words)\n"
   ]
  },
  {
   "cell_type": "code",
   "execution_count": 24,
   "id": "042a61b3",
   "metadata": {},
   "outputs": [
    {
     "name": "stdout",
     "output_type": "stream",
     "text": [
      "Found 'fox' in the text.\n",
      "Starts at position: 16\n",
      "Ends at position: 19\n"
     ]
    }
   ],
   "source": [
    "#Que 16\n",
    "\n",
    "sample_text = 'The quick brown fox jumps over the lazy dog.'\n",
    "searched_word = 'fox'\n",
    "\n",
    "def search_literal_with_location(text, searched_word):\n",
    "    pattern = re.compile(re.escape(searched_word))\n",
    "    match = pattern.search(text)\n",
    "\n",
    "    if match:\n",
    "        start_position = match.start()\n",
    "        end_position = match.end()\n",
    "\n",
    "        print(f\"Found '{searched_word}' in the text.\")\n",
    "        print(f\"Starts at position: {start_position}\")\n",
    "        print(f\"Ends at position: {end_position}\")\n",
    "    else:\n",
    "        print(f\"'{searched_word}' not found in the text.\")\n",
    "\n",
    "search_literal_with_location(sample_text, searched_word)\n"
   ]
  },
  {
   "cell_type": "code",
   "execution_count": 25,
   "id": "734cb22b",
   "metadata": {},
   "outputs": [
    {
     "name": "stdout",
     "output_type": "stream",
     "text": [
      "Found 'exercises' at position: 7-16\n",
      "Found 'exercises' at position: 22-31\n",
      "Found 'exercises' at position: 36-45\n"
     ]
    }
   ],
   "source": [
    "#Que 17\n",
    "\n",
    "sample_text = 'Python exercises, PHP exercises, C# exercises'\n",
    "substring_pattern = 'exercises'\n",
    "\n",
    "def find_substrings(text, pattern):\n",
    "    matches = re.finditer(pattern, text)\n",
    "\n",
    "    for match in matches:\n",
    "        start_position = match.start()\n",
    "        end_position = match.end()\n",
    "        print(f\"Found '{pattern}' at position: {start_position}-{end_position}\")\n",
    "\n",
    "find_substrings(sample_text, re.escape(substring_pattern))\n"
   ]
  },
  {
   "cell_type": "code",
   "execution_count": 26,
   "id": "8fb2ba9a",
   "metadata": {},
   "outputs": [
    {
     "name": "stdout",
     "output_type": "stream",
     "text": [
      "Occurrence 1: 'exercises' found at position 7-16\n",
      "Occurrence 2: 'exercises' found at position 22-31\n",
      "Occurrence 3: 'exercises' found at position 36-45\n",
      "Occurrence 4: 'exercises' found at position 54-63\n"
     ]
    }
   ],
   "source": [
    "#Que 18\n",
    "\n",
    "sample_text = 'Python exercises, PHP exercises, C# exercises, Python exercises'\n",
    "substring_pattern = 'exercises'\n",
    "\n",
    "def find_occurrences_and_positions(text, pattern):\n",
    "    matches = re.finditer(pattern, text)\n",
    "\n",
    "    occurrences = 0\n",
    "    for match in matches:\n",
    "        occurrences += 1\n",
    "        start_position = match.start()\n",
    "        end_position = match.end()\n",
    "        print(f\"Occurrence {occurrences}: '{pattern}' found at position {start_position}-{end_position}\")\n",
    "\n",
    "    if occurrences == 0:\n",
    "        print(f\"'{pattern}' not found in the text.\")\n",
    "\n",
    "find_occurrences_and_positions(sample_text, re.escape(substring_pattern))\n"
   ]
  },
  {
   "cell_type": "code",
   "execution_count": 36,
   "id": "0e0b1281",
   "metadata": {},
   "outputs": [
    {
     "name": "stdout",
     "output_type": "stream",
     "text": [
      "Original date: 2022-02-03\n",
      "Converted date: 03-02-2022\n"
     ]
    }
   ],
   "source": [
    "#Que 19\n",
    "\n",
    "def convert_date_format(input_date):\n",
    "    date_pattern = re.compile(r'(\\d{4})-(\\d{2})-(\\d{2})')\n",
    "    match = date_pattern.match(input_date)\n",
    "\n",
    "    if match:\n",
    "        year, month, day = match.groups()\n",
    "        output_date = f\"{day}-{month}-{year}\"\n",
    "        return output_date\n",
    "    else:\n",
    "        return \"Invalid date format\"\n",
    "\n",
    "input_date = '2022-02-03'\n",
    "output_date = convert_date_format(input_date)\n",
    "\n",
    "print(f\"Original date: {input_date}\")\n",
    "print(f\"Converted date: {output_date}\")\n",
    "\n"
   ]
  },
  {
   "cell_type": "code",
   "execution_count": 40,
   "id": "b10156d2",
   "metadata": {},
   "outputs": [
    {
     "name": "stdout",
     "output_type": "stream",
     "text": [
      "['01.12', '145.8', '3.01', '27.25', '0.25']\n"
     ]
    }
   ],
   "source": [
    "#Que 20\n",
    "\n",
    "sample_text = \"01.12 0132.123 2.31875 145.8 3.01 27.25 0.25\"\n",
    "def find_decimal_numbers(text):\n",
    "    decimal_pattern = re.compile(r'\\b\\d+\\.\\d{1,2}\\b')\n",
    "    matches = decimal_pattern.findall(text)\n",
    "    return matches\n",
    "\n",
    "result = find_decimal_numbers(sample_text)\n",
    "print(result)\n"
   ]
  },
  {
   "cell_type": "code",
   "execution_count": 48,
   "id": "2fbdc62e",
   "metadata": {},
   "outputs": [
    {
     "name": "stdout",
     "output_type": "stream",
     "text": [
      "Number: 54, Position: 26-28\n",
      "Number: 50, Position: 29-31\n",
      "Number: 50, Position: 52-54\n"
     ]
    }
   ],
   "source": [
    "#Que 21\n",
    "\n",
    "sample_text = \"The price of the item is $54.50 and the quantity is 50.\"\n",
    "\n",
    "def extract_numbers_with_positions(text):\n",
    "    number_pattern = re.compile(r'\\b\\d+\\b')\n",
    "    matches = number_pattern.finditer(text)\n",
    "\n",
    "    for match in matches:\n",
    "        number = match.group()\n",
    "        start_position = match.start()\n",
    "        end_position = match.end()\n",
    "        print(f\"Number: {number}, Position: {start_position}-{end_position}\")\n",
    "        \n",
    "extract_numbers_with_positions(sample_text)\n"
   ]
  },
  {
   "cell_type": "code",
   "execution_count": 52,
   "id": "155aa103",
   "metadata": {},
   "outputs": [
    {
     "name": "stdout",
     "output_type": "stream",
     "text": [
      "The maximum numeric value is: 950\n"
     ]
    }
   ],
   "source": [
    "#Que 22\n",
    "sample_text = 'My marks in each semester are: 947, 896, 926, 524, 734, 950, 642'\n",
    "\n",
    "def extract_maximum_numeric_value(text):\n",
    "    numeric_pattern = re.compile(r'\\b\\d+\\b')\n",
    "    numeric_values = map(int, numeric_pattern.findall(text))\n",
    "\n",
    "    if not numeric_values:\n",
    "        return None\n",
    "    max_numeric_value = max(numeric_values)\n",
    "    return max_numeric_value\n",
    "\n",
    "max_value = extract_maximum_numeric_value(sample_text)\n",
    "print(f\"The maximum numeric value is: {max_value}\")\n"
   ]
  },
  {
   "cell_type": "code",
   "execution_count": 54,
   "id": "77a9eb9c",
   "metadata": {},
   "outputs": [
    {
     "name": "stdout",
     "output_type": "stream",
     "text": [
      " Regular Expression Is An Important Topic In Python\n"
     ]
    }
   ],
   "source": [
    "#Que 23\n",
    "sample_text = \"RegularExpressionIsAnImportantTopicInPython\"\n",
    "\n",
    "def insert_spaces(text):\n",
    "    pattern = re.compile(r'([a-z])([A-Z])')\n",
    "    spaced_text = pattern.sub(r'\\1 \\2', text)\n",
    "    spaced_text = re.sub(r'^([A-Z])', r' \\1', spaced_text)\n",
    "    return spaced_text\n",
    "\n",
    "output_text = insert_spaces(sample_text)\n",
    "print(output_text)\n"
   ]
  },
  {
   "cell_type": "code",
   "execution_count": 56,
   "id": "e1a82d53",
   "metadata": {},
   "outputs": [
    {
     "name": "stdout",
     "output_type": "stream",
     "text": [
      "['Abnunder', 'Kumar', 'Good']\n"
     ]
    }
   ],
   "source": [
    "#Que 24\n",
    "\n",
    "def find_uppercase_sequences(text):\n",
    "    pattern = re.compile(r'([A-Z][a-z]+)')\n",
    "    matches = pattern.findall(text)\n",
    "    return matches\n",
    "\n",
    "sample_text = \"Abnunder Kumar is a Good boy.\"\n",
    "uppercase_sequences = find_uppercase_sequences(sample_text)\n",
    "print(uppercase_sequences)\n"
   ]
  },
  {
   "cell_type": "code",
   "execution_count": 57,
   "id": "37ead055",
   "metadata": {},
   "outputs": [
    {
     "name": "stdout",
     "output_type": "stream",
     "text": [
      "Hello world\n"
     ]
    }
   ],
   "source": [
    "#Que 25\n",
    "\n",
    "sample_text = \"Hello hello world world\"\n",
    "\n",
    "def remove_continuous_duplicates(sentence):\n",
    "    pattern = re.compile(r'\\b(\\w+)(?:\\s+\\1\\b)+', flags=re.IGNORECASE)\n",
    "    cleaned_sentence = pattern.sub(r'\\1', sentence)\n",
    "    return cleaned_sentence\n",
    "\n",
    "\n",
    "output_text = remove_continuous_duplicates(sample_text)\n",
    "print(output_text)\n"
   ]
  },
  {
   "cell_type": "code",
   "execution_count": 59,
   "id": "e5a99e80",
   "metadata": {},
   "outputs": [
    {
     "name": "stdout",
     "output_type": "stream",
     "text": [
      "The string 'Abninder20598' ends with an alphanumeric character.\n"
     ]
    }
   ],
   "source": [
    "#Que 26\n",
    "\n",
    "sample_string = \"Abninder20598\"\n",
    "\n",
    "def ends_with_alphanumeric(input_string):\n",
    "    pattern = re.compile(r'\\w$')\n",
    "    match = pattern.search(input_string)\n",
    "    return bool(match)\n",
    "\n",
    "result = ends_with_alphanumeric(sample_string)\n",
    "\n",
    "if result:\n",
    "    print(f\"The string '{sample_string}' ends with an alphanumeric character.\")\n",
    "else:\n",
    "    print(f\"The string '{sample_string}' does not end with an alphanumeric character.\")\n"
   ]
  },
  {
   "cell_type": "code",
   "execution_count": 60,
   "id": "1210e918",
   "metadata": {},
   "outputs": [
    {
     "name": "stdout",
     "output_type": "stream",
     "text": [
      "['#Doltiwal', '#xyzabc', '#Demonetization']\n"
     ]
    }
   ],
   "source": [
    "#Que 27\n",
    "\n",
    "sample_text = \"\"\"RT @kapil_kausik: #Doltiwal I mean #xyzabc is \"hurt\" by #Demonetization as the same has rendered USELESS <ed><U+00A0><U+00BD><ed><U+00B1><U+0089> \"acquired funds\" No wo\"\"\"\n",
    "\n",
    "def extract_hashtags(text):\n",
    "    hashtag_pattern = re.compile(r'#\\w+')\n",
    "    hashtags = hashtag_pattern.findall(text)\n",
    "\n",
    "    return hashtags\n",
    "\n",
    "result = extract_hashtags(sample_text)\n",
    "print(result)\n"
   ]
  },
  {
   "cell_type": "code",
   "execution_count": 63,
   "id": "958fee83",
   "metadata": {},
   "outputs": [
    {
     "name": "stdout",
     "output_type": "stream",
     "text": [
      "@Jags123456 Bharat band on 28??<ed><ed>Those who  are protesting #demonetization  are all different party leaders\n"
     ]
    }
   ],
   "source": [
    "#Que 28\n",
    "\n",
    "sample_text = \"@Jags123456 Bharat band on 28??<ed><U+00A0><U+00BD><ed><U+00B8><U+0082>Those who  are protesting #demonetization  are all different party leaders\"\n",
    "\n",
    "def remove_symbols(text):\n",
    "    pattern = re.compile(r'<U\\+[0-9A-Fa-f]+>')\n",
    "    new_text = pattern.sub('', text)\n",
    "    return new_text\n",
    "\n",
    "result = remove_symbols(sample_text)\n",
    "print(result)\n"
   ]
  },
  {
   "cell_type": "code",
   "execution_count": 65,
   "id": "0f3ffdf1",
   "metadata": {},
   "outputs": [
    {
     "name": "stdout",
     "output_type": "stream",
     "text": [
      "['12-09-1992', '15-12-1999']\n"
     ]
    }
   ],
   "source": [
    "#Que 29\n",
    "\n",
    "def extract_dates_from_file(file_path):\n",
    "    with open(file_path, 'r') as file:\n",
    "        text = file.read()\n",
    "    date_pattern = re.compile(r'\\b(\\d{2}-\\d{2}-\\d{4})\\b')\n",
    "    dates = date_pattern.findall(text)\n",
    "    return dates\n",
    "\n",
    "file_path = 'sample_text1.txt'\n",
    "result_dates = extract_dates_from_file(file_path)\n",
    "print(result_dates)\n",
    "\n"
   ]
  },
  {
   "cell_type": "code",
   "execution_count": 67,
   "id": "d117283b",
   "metadata": {},
   "outputs": [
    {
     "name": "stdout",
     "output_type": "stream",
     "text": [
      " following example creates  ArrayList  a capacity   elements. 4 elements   added   ArrayList   ArrayList  trimmed accordingly.\n"
     ]
    }
   ],
   "source": [
    "#Que 30\n",
    "\n",
    "sample_text = \"The following example creates an ArrayList with a capacity of 50 elements. 4 elements are then added to the ArrayList and the ArrayList is trimmed accordingly.\"\n",
    "\n",
    "def remove_words(text):\n",
    "    word_pattern = re.compile(r'\\b\\w{2,4}\\b')\n",
    "    cleaned_text = word_pattern.sub('', text)\n",
    "    return cleaned_text\n",
    "\n",
    "result = remove_words(sample_text)\n",
    "print(result)\n"
   ]
  },
  {
   "cell_type": "code",
   "execution_count": null,
   "id": "79edee2a",
   "metadata": {},
   "outputs": [],
   "source": []
  }
 ],
 "metadata": {
  "kernelspec": {
   "display_name": "Python 3 (ipykernel)",
   "language": "python",
   "name": "python3"
  },
  "language_info": {
   "codemirror_mode": {
    "name": "ipython",
    "version": 3
   },
   "file_extension": ".py",
   "mimetype": "text/x-python",
   "name": "python",
   "nbconvert_exporter": "python",
   "pygments_lexer": "ipython3",
   "version": "3.11.5"
  }
 },
 "nbformat": 4,
 "nbformat_minor": 5
}
